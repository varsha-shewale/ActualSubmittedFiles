{
 "cells": [
  {
   "cell_type": "markdown",
   "metadata": {},
   "source": [
    "# Sentiment analysis for Echo Spot using Twitter\n",
    "\n",
    "## Part 1 Data Gathering"
   ]
  },
  {
   "cell_type": "code",
   "execution_count": 91,
   "metadata": {},
   "outputs": [],
   "source": [
    "%matplotlib inline\n",
    "\n",
    "import os\n",
    "import requests\n",
    "import pandas as pd\n",
    "import tweepy\n",
    "from tweepy import OAuthHandler\n",
    "import json\n",
    "from textblob import TextBlob\n",
    "from timeit import default_timer as timer\n",
    "import re\n",
    "import numpy as np\n",
    "import seaborn as sns\n",
    "import matplotlib.pyplot as plt\n",
    "\n"
   ]
  },
  {
   "cell_type": "markdown",
   "metadata": {},
   "source": [
    "### Gather"
   ]
  },
  {
   "cell_type": "markdown",
   "metadata": {},
   "source": [
    "In order to authorise our app to access Twitter on our behalf, we need to use the OAuth interface (using tweepy).\n",
    "Gathering tweets with words 'Echo' and 'Spot' for product 'Echo Spot'"
   ]
  },
  {
   "cell_type": "code",
   "execution_count": 2,
   "metadata": {
    "collapsed": true
   },
   "outputs": [],
   "source": [
    "consumer_key = 'E13M01ftcg4NaYjkJJQguKEF9'\n",
    "consumer_secret = 'ff61gh7Bfzuf0lFPLjXN54RywBVIDQvF9p9aZpb7jaBybdV2Sh'\n",
    "access_token = '197076175-o8vAHLIwqdZNx3NCdpZTrSK3lLsGdXUmjgFBKTda'\n",
    "access_secret = '5moI9YXRiGnUjA7RO0RoIrD0enTOc0IEiyPQfRPLAGcoO'\n",
    "\n",
    "auth = OAuthHandler(consumer_key, consumer_secret)\n",
    "auth.set_access_token(access_token, access_secret)\n",
    " \n",
    "api = tweepy.API(auth, wait_on_rate_limit = True, wait_on_rate_limit_notify = True)\n",
    "\n",
    "\n"
   ]
  },
  {
   "cell_type": "markdown",
   "metadata": {},
   "source": [
    "Using the query words 'Echo' and 'Spot', query the Twitter API for each tweet's JSON data using Python's Tweepy library then storing each tweet's entire set of JSON data in a file called spot_json.txt file. Each tweet's JSON data is written to its own line."
   ]
  },
  {
   "cell_type": "code",
   "execution_count": 27,
   "metadata": {},
   "outputs": [
    {
     "name": "stdout",
     "output_type": "stream",
     "text": [
      "Tweet 1 found\n",
      "\n",
      "Tweet 2 found\n",
      "\n",
      "Tweet 3 found\n",
      "\n",
      "Tweet 4 found\n",
      "\n",
      "Tweet 5 found\n",
      "\n",
      "Tweet 6 found\n",
      "\n",
      "Tweet 7 found\n",
      "\n",
      "Tweet 8 found\n",
      "\n",
      "Tweet 9 found\n",
      "\n",
      "Tweet 10 found\n",
      "\n",
      "Tweet 11 found\n",
      "\n",
      "Tweet 12 found\n",
      "\n",
      "Tweet 13 found\n",
      "\n",
      "Tweet 14 found\n",
      "\n",
      "Tweet 15 found\n",
      "\n",
      "Tweet 16 found\n",
      "\n",
      "Tweet 17 found\n",
      "\n",
      "Tweet 18 found\n",
      "\n",
      "Tweet 19 found\n",
      "\n",
      "Tweet 20 found\n",
      "\n",
      "Tweet 21 found\n",
      "\n",
      "Tweet 22 found\n",
      "\n",
      "Tweet 23 found\n",
      "\n",
      "Tweet 24 found\n",
      "\n",
      "Tweet 25 found\n",
      "\n",
      "Tweet 26 found\n",
      "\n",
      "Tweet 27 found\n",
      "\n",
      "Tweet 28 found\n",
      "\n",
      "Tweet 29 found\n",
      "\n",
      "Tweet 30 found\n",
      "\n",
      "Tweet 31 found\n",
      "\n",
      "Tweet 32 found\n",
      "\n",
      "Tweet 33 found\n",
      "\n",
      "Tweet 34 found\n",
      "\n",
      "Tweet 35 found\n",
      "\n",
      "Tweet 36 found\n",
      "\n",
      "Tweet 37 found\n",
      "\n",
      "Tweet 38 found\n",
      "\n",
      "Tweet 39 found\n",
      "\n",
      "Tweet 40 found\n",
      "\n",
      "Tweet 41 found\n",
      "\n",
      "Tweet 42 found\n",
      "\n",
      "Tweet 43 found\n",
      "\n",
      "Tweet 44 found\n",
      "\n",
      "Tweet 45 found\n",
      "\n",
      "Tweet 46 found\n",
      "\n",
      "Tweet 47 found\n",
      "\n",
      "Tweet 48 found\n",
      "\n",
      "Tweet 49 found\n",
      "\n",
      "Tweet 50 found\n",
      "\n",
      "Tweet 51 found\n",
      "\n",
      "Tweet 52 found\n",
      "\n",
      "Tweet 53 found\n",
      "\n",
      "Tweet 54 found\n",
      "\n",
      "Tweet 55 found\n",
      "\n",
      "Tweet 56 found\n",
      "\n",
      "Tweet 57 found\n",
      "\n",
      "Tweet 58 found\n",
      "\n",
      "Tweet 59 found\n",
      "\n",
      "Tweet 60 found\n",
      "\n",
      "Tweet 61 found\n",
      "\n",
      "Tweet 62 found\n",
      "\n",
      "Tweet 63 found\n",
      "\n",
      "Tweet 64 found\n",
      "\n",
      "Tweet 65 found\n",
      "\n",
      "Tweet 66 found\n",
      "\n",
      "Tweet 67 found\n",
      "\n",
      "Tweet 68 found\n",
      "\n",
      "Tweet 69 found\n",
      "\n",
      "Tweet 70 found\n",
      "\n",
      "Tweet 71 found\n",
      "\n",
      "Tweet 72 found\n",
      "\n",
      "Tweet 73 found\n",
      "\n",
      "Tweet 74 found\n",
      "\n",
      "Tweet 75 found\n",
      "\n",
      "Tweet 76 found\n",
      "\n",
      "Tweet 77 found\n",
      "\n",
      "Tweet 78 found\n",
      "\n",
      "Tweet 79 found\n",
      "\n",
      "Tweet 80 found\n",
      "\n",
      "Tweet 81 found\n",
      "\n",
      "Tweet 82 found\n",
      "\n",
      "Tweet 83 found\n",
      "\n",
      "Tweet 84 found\n",
      "\n",
      "Tweet 85 found\n",
      "\n",
      "Tweet 86 found\n",
      "\n",
      "Tweet 87 found\n",
      "\n",
      "Tweet 88 found\n",
      "\n",
      "Tweet 89 found\n",
      "\n",
      "Tweet 90 found\n",
      "\n",
      "Tweet 91 found\n",
      "\n",
      "Tweet 92 found\n",
      "\n",
      "Tweet 93 found\n",
      "\n",
      "Tweet 94 found\n",
      "\n",
      "Tweet 95 found\n",
      "\n",
      "Tweet 96 found\n",
      "\n",
      "Tweet 97 found\n",
      "\n",
      "Tweet 98 found\n",
      "\n",
      "Tweet 99 found\n",
      "\n",
      "Tweet 100 found\n",
      "\n",
      "Tweet 101 found\n",
      "\n",
      "Tweet 102 found\n",
      "\n",
      "Tweet 103 found\n",
      "\n",
      "Tweet 104 found\n",
      "\n",
      "Tweet 105 found\n",
      "\n",
      "Tweet 106 found\n",
      "\n",
      "Tweet 107 found\n",
      "\n",
      "Tweet 108 found\n",
      "\n",
      "Tweet 109 found\n",
      "\n",
      "Tweet 110 found\n",
      "\n",
      "Tweet 111 found\n",
      "\n",
      "Tweet 112 found\n",
      "\n",
      "Tweet 113 found\n",
      "\n",
      "Tweet 114 found\n",
      "\n",
      "Tweet 115 found\n",
      "\n",
      "Tweet 116 found\n",
      "\n",
      "Tweet 117 found\n",
      "\n",
      "Tweet 118 found\n",
      "\n",
      "Tweet 119 found\n",
      "\n",
      "Tweet 120 found\n",
      "\n",
      "Tweet 121 found\n",
      "\n",
      "Tweet 122 found\n",
      "\n",
      "Tweet 123 found\n",
      "\n",
      "Tweet 124 found\n",
      "\n",
      "Tweet 125 found\n",
      "\n",
      "Tweet 126 found\n",
      "\n",
      "Tweet 127 found\n",
      "\n",
      "Tweet 128 found\n",
      "\n",
      "Tweet 129 found\n",
      "\n",
      "Tweet 130 found\n",
      "\n",
      "Tweet 131 found\n",
      "\n",
      "Tweet 132 found\n",
      "\n",
      "Tweet 133 found\n",
      "\n",
      "Tweet 134 found\n",
      "\n",
      "Tweet 135 found\n",
      "\n",
      "Tweet 136 found\n",
      "\n",
      "Tweet 137 found\n",
      "\n",
      "Tweet 138 found\n",
      "\n",
      "Tweet 139 found\n",
      "\n",
      "Tweet 140 found\n",
      "\n",
      "Tweet 141 found\n",
      "\n",
      "Tweet 142 found\n",
      "\n",
      "Tweet 143 found\n",
      "\n",
      "Tweet 144 found\n",
      "\n",
      "Tweet 145 found\n",
      "\n",
      "Tweet 146 found\n",
      "\n",
      "Tweet 147 found\n",
      "\n",
      "Tweet 148 found\n",
      "\n",
      "Tweet 149 found\n",
      "\n",
      "Tweet 150 found\n",
      "\n",
      "Tweet 151 found\n",
      "\n",
      "Tweet 152 found\n",
      "\n",
      "Tweet 153 found\n",
      "\n",
      "Tweet 154 found\n",
      "\n",
      "Tweet 155 found\n",
      "\n",
      "Tweet 156 found\n",
      "\n",
      "Tweet 157 found\n",
      "\n",
      "Tweet 158 found\n",
      "\n",
      "Tweet 159 found\n",
      "\n",
      "Tweet 160 found\n",
      "\n",
      "Tweet 161 found\n",
      "\n",
      "Tweet 162 found\n",
      "\n",
      "Tweet 163 found\n",
      "\n",
      "Tweet 164 found\n",
      "\n",
      "Tweet 165 found\n",
      "\n",
      "Tweet 166 found\n",
      "\n",
      "Tweet 167 found\n",
      "\n",
      "Tweet 168 found\n",
      "\n",
      "Tweet 169 found\n",
      "\n",
      "Tweet 170 found\n",
      "\n",
      "Tweet 171 found\n",
      "\n",
      "Tweet 172 found\n",
      "\n",
      "Tweet 173 found\n",
      "\n",
      "Tweet 174 found\n",
      "\n",
      "Tweet 175 found\n",
      "\n",
      "Tweet 176 found\n",
      "\n",
      "Tweet 177 found\n",
      "\n",
      "Tweet 178 found\n",
      "\n",
      "Tweet 179 found\n",
      "\n",
      "Tweet 180 found\n",
      "\n",
      "Tweet 181 found\n",
      "\n",
      "Tweet 182 found\n",
      "\n",
      "Tweet 183 found\n",
      "\n",
      "Tweet 184 found\n",
      "\n",
      "Tweet 185 found\n",
      "\n",
      "Tweet 186 found\n",
      "\n",
      "Tweet 187 found\n",
      "\n",
      "Tweet 188 found\n",
      "\n",
      "Tweet 189 found\n",
      "\n",
      "Tweet 190 found\n",
      "\n",
      "Tweet 191 found\n",
      "\n",
      "Tweet 192 found\n",
      "\n",
      "Tweet 193 found\n",
      "\n",
      "Tweet 194 found\n",
      "\n",
      "Tweet 195 found\n",
      "\n",
      "Tweet 196 found\n",
      "\n",
      "Tweet 197 found\n",
      "\n",
      "Tweet 198 found\n",
      "\n",
      "Tweet 199 found\n",
      "\n",
      "Tweet 200 found\n",
      "\n",
      "Tweet 201 found\n",
      "\n",
      "Tweet 202 found\n",
      "\n",
      "Tweet 203 found\n",
      "\n",
      "Tweet 204 found\n",
      "\n",
      "Tweet 205 found\n",
      "\n",
      "Tweet 206 found\n",
      "\n",
      "Tweet 207 found\n",
      "\n",
      "Tweet 208 found\n",
      "\n",
      "Tweet 209 found\n",
      "\n",
      "Tweet 210 found\n",
      "\n",
      "Tweet 211 found\n",
      "\n",
      "Tweet 212 found\n",
      "\n",
      "Tweet 213 found\n",
      "\n",
      "Tweet 214 found\n",
      "\n",
      "Tweet 215 found\n",
      "\n",
      "Tweet 216 found\n",
      "\n",
      "Tweet 217 found\n",
      "\n",
      "Tweet 218 found\n",
      "\n",
      "Tweet 219 found\n",
      "\n",
      "Tweet 220 found\n",
      "\n",
      "Tweet 221 found\n",
      "\n",
      "Tweet 222 found\n",
      "\n",
      "Tweet 223 found\n",
      "\n",
      "Tweet 224 found\n",
      "\n",
      "Tweet 225 found\n",
      "\n",
      "Tweet 226 found\n",
      "\n",
      "Tweet 227 found\n",
      "\n",
      "Tweet 228 found\n",
      "\n",
      "Tweet 229 found\n",
      "\n",
      "Tweet 230 found\n",
      "\n",
      "Tweet 231 found\n",
      "\n",
      "Tweet 232 found\n",
      "\n",
      "Tweet 233 found\n",
      "\n",
      "Tweet 234 found\n",
      "\n",
      "Tweet 235 found\n",
      "\n",
      "Tweet 236 found\n",
      "\n",
      "Tweet 237 found\n",
      "\n",
      "Tweet 238 found\n",
      "\n",
      "Tweet 239 found\n",
      "\n",
      "Tweet 240 found\n",
      "\n",
      "Tweet 241 found\n",
      "\n",
      "Tweet 242 found\n",
      "\n",
      "Tweet 243 found\n",
      "\n",
      "Tweet 244 found\n",
      "\n",
      "Tweet 245 found\n",
      "\n",
      "Tweet 246 found\n",
      "\n",
      "Tweet 247 found\n",
      "\n",
      "Tweet 248 found\n",
      "\n",
      "Tweet 249 found\n",
      "\n",
      "Tweet 250 found\n",
      "\n",
      "Tweet 251 found\n",
      "\n",
      "Tweet 252 found\n",
      "\n",
      "Tweet 253 found\n",
      "\n",
      "Tweet 254 found\n",
      "\n",
      "Tweet 255 found\n",
      "\n",
      "Tweet 256 found\n",
      "\n",
      "Tweet 257 found\n",
      "\n",
      "Tweet 258 found\n",
      "\n",
      "Tweet 259 found\n",
      "\n",
      "Tweet 260 found\n",
      "\n",
      "Tweet 261 found\n",
      "\n",
      "Tweet 262 found\n",
      "\n",
      "Tweet 263 found\n",
      "\n",
      "Tweet 264 found\n",
      "\n",
      "Tweet 265 found\n",
      "\n",
      "Tweet 266 found\n",
      "\n",
      "Tweet 267 found\n",
      "\n",
      "Tweet 268 found\n",
      "\n",
      "Tweet 269 found\n",
      "\n",
      "Tweet 270 found\n",
      "\n",
      "Tweet 271 found\n",
      "\n",
      "Tweet 272 found\n",
      "\n",
      "Tweet 273 found\n",
      "\n",
      "Tweet 274 found\n",
      "\n",
      "Tweet 275 found\n",
      "\n",
      "Tweet 276 found\n",
      "\n",
      "Tweet 277 found\n",
      "\n",
      "Tweet 278 found\n",
      "\n",
      "Tweet 279 found\n",
      "\n",
      "Tweet 280 found\n",
      "\n",
      "Tweet 281 found\n",
      "\n",
      "Tweet 282 found\n",
      "\n",
      "Tweet 283 found\n",
      "\n",
      "Tweet 284 found\n",
      "\n",
      "Tweet 285 found\n",
      "\n",
      "Tweet 286 found\n",
      "\n",
      "Tweet 287 found\n",
      "\n",
      "Tweet 288 found\n",
      "\n",
      "Tweet 289 found\n",
      "\n",
      "Tweet 290 found\n",
      "\n",
      "Tweet 291 found\n",
      "\n",
      "291 Tweets processed \n",
      "Total time \n",
      "6.1156680584\n"
     ]
    }
   ],
   "source": [
    "def get_tweet_json():\n",
    "    #This function gets the json associated with each tweet \n",
    "    \n",
    "    start = timer() #starting timer to calculate execution time \n",
    "    data = []\n",
    "    count = 0\n",
    "    \n",
    "    #getting only original tweets for Echo Spot \n",
    "    for tweet in tweepy.Cursor(api.search, q='%23EchoSpot OR \\\"Echo Spot\\\" OR \\\"EchoSpot\\\"'+ \"-filter:retweets\" , \n",
    "                               lang= 'en',tweet_mode='extended').items():\n",
    "        \n",
    "    #print tweet.created_at, tweet.text, tweet.user.id , tweet.user.followers_count\n",
    "    \n",
    "        try:\n",
    "            \n",
    "            data.append(tweet._json)\n",
    "            count = count + 1\n",
    "            print \"Tweet %d found\\n\" %(count)\n",
    "            if count >= 50000:\n",
    "                break\n",
    "        except:\n",
    "            print 'Failed'\n",
    "    \n",
    "    if data: #if list is not empty\n",
    "        with open('spot_json.txt', 'w') as outfile: #'w' mode to overwrite file if it already has content\n",
    "            for item in data:\n",
    "                json.dump(item, outfile)# when used the 'indent' parameter, the o/p file format wasn't json \n",
    "                #and wasn't recognized while loading data into dataframe\n",
    "                outfile.write('\\n')  \n",
    "        \n",
    "    end = timer() #stop timer\n",
    "    print '%d Tweets processed ' %count\n",
    "    print \"Total time \"\n",
    "    print (end - start)  \n",
    "    return None\n",
    "\n",
    "get_tweet_json()\n",
    "\n"
   ]
  },
  {
   "cell_type": "markdown",
   "metadata": {},
   "source": [
    "Read this tweet_json.txt file line by line into a pandas DataFrame with (at minimum) tweet ID, retweet count, and favorite count."
   ]
  },
  {
   "cell_type": "code",
   "execution_count": 28,
   "metadata": {
    "collapsed": true
   },
   "outputs": [],
   "source": [
    "with open('spot_json.txt') as f:\n",
    "    df_json = pd.DataFrame(json.loads(line) for line in f)\n",
    "\n",
    "df_json.to_csv('spot_json.csv', sep=',', encoding='utf-8', index = False)\n"
   ]
  },
  {
   "cell_type": "code",
   "execution_count": 29,
   "metadata": {},
   "outputs": [
    {
     "data": {
      "text/plain": [
       "[u'contributors',\n",
       " u'coordinates',\n",
       " u'created_at',\n",
       " u'display_text_range',\n",
       " u'entities',\n",
       " u'extended_entities',\n",
       " u'favorite_count',\n",
       " u'favorited',\n",
       " u'full_text',\n",
       " u'geo',\n",
       " u'id',\n",
       " u'id_str',\n",
       " u'in_reply_to_screen_name',\n",
       " u'in_reply_to_status_id',\n",
       " u'in_reply_to_status_id_str',\n",
       " u'in_reply_to_user_id',\n",
       " u'in_reply_to_user_id_str',\n",
       " u'is_quote_status',\n",
       " u'lang',\n",
       " u'metadata',\n",
       " u'place',\n",
       " u'possibly_sensitive',\n",
       " u'quoted_status',\n",
       " u'quoted_status_id',\n",
       " u'quoted_status_id_str',\n",
       " u'retweet_count',\n",
       " u'retweeted',\n",
       " u'source',\n",
       " u'truncated',\n",
       " u'user']"
      ]
     },
     "execution_count": 29,
     "metadata": {},
     "output_type": "execute_result"
    }
   ],
   "source": [
    "list(df_json)\n"
   ]
  },
  {
   "cell_type": "code",
   "execution_count": 30,
   "metadata": {},
   "outputs": [
    {
     "data": {
      "text/plain": [
       "0    Building for Echo Show and Echo Spot: VUI &amp...\n",
       "1    Enter to win an @Amazon #EchoSpot from @GeekWi...\n",
       "2    Enter to win an @Amazon #EchoSpot from @GeekWi...\n",
       "3    How to Disable the Camera on the Echo Spot htt...\n",
       "4    #FreeKindleBook [Education &amp; Teaching][Fre...\n",
       "Name: full_text, dtype: object"
      ]
     },
     "execution_count": 30,
     "metadata": {},
     "output_type": "execute_result"
    }
   ],
   "source": [
    "df_json['full_text'].head(5)"
   ]
  },
  {
   "cell_type": "code",
   "execution_count": 8,
   "metadata": {},
   "outputs": [
    {
     "data": {
      "text/html": [
       "<div>\n",
       "<style>\n",
       "    .dataframe thead tr:only-child th {\n",
       "        text-align: right;\n",
       "    }\n",
       "\n",
       "    .dataframe thead th {\n",
       "        text-align: left;\n",
       "    }\n",
       "\n",
       "    .dataframe tbody tr th {\n",
       "        vertical-align: top;\n",
       "    }\n",
       "</style>\n",
       "<table border=\"1\" class=\"dataframe\">\n",
       "  <thead>\n",
       "    <tr style=\"text-align: right;\">\n",
       "      <th></th>\n",
       "      <th>contributors</th>\n",
       "      <th>coordinates</th>\n",
       "      <th>created_at</th>\n",
       "      <th>display_text_range</th>\n",
       "      <th>entities</th>\n",
       "      <th>extended_entities</th>\n",
       "      <th>favorite_count</th>\n",
       "      <th>favorited</th>\n",
       "      <th>full_text</th>\n",
       "      <th>geo</th>\n",
       "      <th>...</th>\n",
       "      <th>place</th>\n",
       "      <th>possibly_sensitive</th>\n",
       "      <th>quoted_status</th>\n",
       "      <th>quoted_status_id</th>\n",
       "      <th>quoted_status_id_str</th>\n",
       "      <th>retweet_count</th>\n",
       "      <th>retweeted</th>\n",
       "      <th>source</th>\n",
       "      <th>truncated</th>\n",
       "      <th>user</th>\n",
       "    </tr>\n",
       "  </thead>\n",
       "  <tbody>\n",
       "    <tr>\n",
       "      <th>0</th>\n",
       "      <td>None</td>\n",
       "      <td>None</td>\n",
       "      <td>Sat Jan 13 08:07:22 +0000 2018</td>\n",
       "      <td>[0, 279]</td>\n",
       "      <td>{u'symbols': [], u'user_mentions': [], u'hasht...</td>\n",
       "      <td>{u'media': [{u'expanded_url': u'https://twitte...</td>\n",
       "      <td>0</td>\n",
       "      <td>False</td>\n",
       "      <td>CES showed us smart displays will be the new n...</td>\n",
       "      <td>None</td>\n",
       "      <td>...</td>\n",
       "      <td>None</td>\n",
       "      <td>False</td>\n",
       "      <td>NaN</td>\n",
       "      <td>NaN</td>\n",
       "      <td>NaN</td>\n",
       "      <td>0</td>\n",
       "      <td>False</td>\n",
       "      <td>&lt;a href=\"https://ifttt.com\" rel=\"nofollow\"&gt;IFT...</td>\n",
       "      <td>False</td>\n",
       "      <td>{u'follow_request_sent': False, u'has_extended...</td>\n",
       "    </tr>\n",
       "    <tr>\n",
       "      <th>1</th>\n",
       "      <td>None</td>\n",
       "      <td>None</td>\n",
       "      <td>Sat Jan 13 08:03:18 +0000 2018</td>\n",
       "      <td>[0, 79]</td>\n",
       "      <td>{u'symbols': [], u'user_mentions': [], u'hasht...</td>\n",
       "      <td>NaN</td>\n",
       "      <td>0</td>\n",
       "      <td>False</td>\n",
       "      <td>Amazon Echo Spot\\n\\nbuy it 👉 https://t.co/OuW...</td>\n",
       "      <td>None</td>\n",
       "      <td>...</td>\n",
       "      <td>None</td>\n",
       "      <td>False</td>\n",
       "      <td>NaN</td>\n",
       "      <td>NaN</td>\n",
       "      <td>NaN</td>\n",
       "      <td>0</td>\n",
       "      <td>False</td>\n",
       "      <td>&lt;a href=\"https://ifttt.com\" rel=\"nofollow\"&gt;IFT...</td>\n",
       "      <td>False</td>\n",
       "      <td>{u'follow_request_sent': False, u'has_extended...</td>\n",
       "    </tr>\n",
       "    <tr>\n",
       "      <th>2</th>\n",
       "      <td>None</td>\n",
       "      <td>None</td>\n",
       "      <td>Sat Jan 13 08:02:33 +0000 2018</td>\n",
       "      <td>[0, 279]</td>\n",
       "      <td>{u'symbols': [], u'user_mentions': [], u'hasht...</td>\n",
       "      <td>NaN</td>\n",
       "      <td>0</td>\n",
       "      <td>False</td>\n",
       "      <td>Engadget:\"CES showed us smart displays will be...</td>\n",
       "      <td>None</td>\n",
       "      <td>...</td>\n",
       "      <td>None</td>\n",
       "      <td>False</td>\n",
       "      <td>NaN</td>\n",
       "      <td>NaN</td>\n",
       "      <td>NaN</td>\n",
       "      <td>0</td>\n",
       "      <td>False</td>\n",
       "      <td>&lt;a href=\"https://ifttt.com\" rel=\"nofollow\"&gt;IFT...</td>\n",
       "      <td>False</td>\n",
       "      <td>{u'follow_request_sent': False, u'has_extended...</td>\n",
       "    </tr>\n",
       "    <tr>\n",
       "      <th>3</th>\n",
       "      <td>None</td>\n",
       "      <td>None</td>\n",
       "      <td>Sat Jan 13 08:01:30 +0000 2018</td>\n",
       "      <td>[0, 74]</td>\n",
       "      <td>{u'symbols': [], u'user_mentions': [], u'hasht...</td>\n",
       "      <td>{u'media': [{u'source_user_id': 2438173117, u'...</td>\n",
       "      <td>0</td>\n",
       "      <td>False</td>\n",
       "      <td>Amazon Echo Spot\\n\\nbuy it 👉 https://t.co/4wd...</td>\n",
       "      <td>None</td>\n",
       "      <td>...</td>\n",
       "      <td>None</td>\n",
       "      <td>False</td>\n",
       "      <td>NaN</td>\n",
       "      <td>NaN</td>\n",
       "      <td>NaN</td>\n",
       "      <td>0</td>\n",
       "      <td>False</td>\n",
       "      <td>&lt;a href=\"https://ifttt.com\" rel=\"nofollow\"&gt;IFT...</td>\n",
       "      <td>False</td>\n",
       "      <td>{u'follow_request_sent': False, u'has_extended...</td>\n",
       "    </tr>\n",
       "    <tr>\n",
       "      <th>4</th>\n",
       "      <td>None</td>\n",
       "      <td>None</td>\n",
       "      <td>Sat Jan 13 07:37:04 +0000 2018</td>\n",
       "      <td>[0, 227]</td>\n",
       "      <td>{u'symbols': [], u'user_mentions': [], u'hasht...</td>\n",
       "      <td>NaN</td>\n",
       "      <td>0</td>\n",
       "      <td>False</td>\n",
       "      <td>Hmmmm...Politico is from my left leaning echo ...</td>\n",
       "      <td>None</td>\n",
       "      <td>...</td>\n",
       "      <td>None</td>\n",
       "      <td>False</td>\n",
       "      <td>NaN</td>\n",
       "      <td>NaN</td>\n",
       "      <td>NaN</td>\n",
       "      <td>0</td>\n",
       "      <td>False</td>\n",
       "      <td>&lt;a href=\"http://twitter.com/download/iphone\" r...</td>\n",
       "      <td>False</td>\n",
       "      <td>{u'follow_request_sent': False, u'has_extended...</td>\n",
       "    </tr>\n",
       "  </tbody>\n",
       "</table>\n",
       "<p>5 rows × 30 columns</p>\n",
       "</div>"
      ],
      "text/plain": [
       "  contributors coordinates                      created_at display_text_range  \\\n",
       "0         None        None  Sat Jan 13 08:07:22 +0000 2018           [0, 279]   \n",
       "1         None        None  Sat Jan 13 08:03:18 +0000 2018            [0, 79]   \n",
       "2         None        None  Sat Jan 13 08:02:33 +0000 2018           [0, 279]   \n",
       "3         None        None  Sat Jan 13 08:01:30 +0000 2018            [0, 74]   \n",
       "4         None        None  Sat Jan 13 07:37:04 +0000 2018           [0, 227]   \n",
       "\n",
       "                                            entities  \\\n",
       "0  {u'symbols': [], u'user_mentions': [], u'hasht...   \n",
       "1  {u'symbols': [], u'user_mentions': [], u'hasht...   \n",
       "2  {u'symbols': [], u'user_mentions': [], u'hasht...   \n",
       "3  {u'symbols': [], u'user_mentions': [], u'hasht...   \n",
       "4  {u'symbols': [], u'user_mentions': [], u'hasht...   \n",
       "\n",
       "                                   extended_entities  favorite_count  \\\n",
       "0  {u'media': [{u'expanded_url': u'https://twitte...               0   \n",
       "1                                                NaN               0   \n",
       "2                                                NaN               0   \n",
       "3  {u'media': [{u'source_user_id': 2438173117, u'...               0   \n",
       "4                                                NaN               0   \n",
       "\n",
       "   favorited                                          full_text   geo  \\\n",
       "0      False  CES showed us smart displays will be the new n...  None   \n",
       "1      False  Amazon Echo Spot\\n\\nbuy it 👉 https://t.co/OuW...  None   \n",
       "2      False  Engadget:\"CES showed us smart displays will be...  None   \n",
       "3      False  Amazon Echo Spot\\n\\nbuy it 👉 https://t.co/4wd...  None   \n",
       "4      False  Hmmmm...Politico is from my left leaning echo ...  None   \n",
       "\n",
       "                         ...                          place  \\\n",
       "0                        ...                           None   \n",
       "1                        ...                           None   \n",
       "2                        ...                           None   \n",
       "3                        ...                           None   \n",
       "4                        ...                           None   \n",
       "\n",
       "  possibly_sensitive quoted_status  quoted_status_id quoted_status_id_str  \\\n",
       "0              False           NaN               NaN                  NaN   \n",
       "1              False           NaN               NaN                  NaN   \n",
       "2              False           NaN               NaN                  NaN   \n",
       "3              False           NaN               NaN                  NaN   \n",
       "4              False           NaN               NaN                  NaN   \n",
       "\n",
       "   retweet_count retweeted                                             source  \\\n",
       "0              0     False  <a href=\"https://ifttt.com\" rel=\"nofollow\">IFT...   \n",
       "1              0     False  <a href=\"https://ifttt.com\" rel=\"nofollow\">IFT...   \n",
       "2              0     False  <a href=\"https://ifttt.com\" rel=\"nofollow\">IFT...   \n",
       "3              0     False  <a href=\"https://ifttt.com\" rel=\"nofollow\">IFT...   \n",
       "4              0     False  <a href=\"http://twitter.com/download/iphone\" r...   \n",
       "\n",
       "  truncated                                               user  \n",
       "0     False  {u'follow_request_sent': False, u'has_extended...  \n",
       "1     False  {u'follow_request_sent': False, u'has_extended...  \n",
       "2     False  {u'follow_request_sent': False, u'has_extended...  \n",
       "3     False  {u'follow_request_sent': False, u'has_extended...  \n",
       "4     False  {u'follow_request_sent': False, u'has_extended...  \n",
       "\n",
       "[5 rows x 30 columns]"
      ]
     },
     "execution_count": 8,
     "metadata": {},
     "output_type": "execute_result"
    }
   ],
   "source": [
    "df_json.head(5)"
   ]
  },
  {
   "cell_type": "code",
   "execution_count": 47,
   "metadata": {},
   "outputs": [],
   "source": [
    "df_tweets = df_json.loc[:, ['id','retweet_count','favorite_count','full_text']]"
   ]
  },
  {
   "cell_type": "markdown",
   "metadata": {},
   "source": [
    "### Assess"
   ]
  },
  {
   "cell_type": "code",
   "execution_count": 48,
   "metadata": {},
   "outputs": [
    {
     "name": "stdout",
     "output_type": "stream",
     "text": [
      "<class 'pandas.core.frame.DataFrame'>\n",
      "RangeIndex: 291 entries, 0 to 290\n",
      "Data columns (total 4 columns):\n",
      "id                291 non-null int64\n",
      "retweet_count     291 non-null int64\n",
      "favorite_count    291 non-null int64\n",
      "full_text         291 non-null object\n",
      "dtypes: int64(3), object(1)\n",
      "memory usage: 9.2+ KB\n"
     ]
    }
   ],
   "source": [
    "df_tweets.info()"
   ]
  },
  {
   "cell_type": "code",
   "execution_count": 33,
   "metadata": {},
   "outputs": [
    {
     "data": {
      "text/html": [
       "<div>\n",
       "<style>\n",
       "    .dataframe thead tr:only-child th {\n",
       "        text-align: right;\n",
       "    }\n",
       "\n",
       "    .dataframe thead th {\n",
       "        text-align: left;\n",
       "    }\n",
       "\n",
       "    .dataframe tbody tr th {\n",
       "        vertical-align: top;\n",
       "    }\n",
       "</style>\n",
       "<table border=\"1\" class=\"dataframe\">\n",
       "  <thead>\n",
       "    <tr style=\"text-align: right;\">\n",
       "      <th></th>\n",
       "      <th>id</th>\n",
       "      <th>retweet_count</th>\n",
       "      <th>favorite_count</th>\n",
       "      <th>full_text</th>\n",
       "    </tr>\n",
       "  </thead>\n",
       "  <tbody>\n",
       "    <tr>\n",
       "      <th>198</th>\n",
       "      <td>950173740595384321</td>\n",
       "      <td>1</td>\n",
       "      <td>2</td>\n",
       "      <td>https://t.co/vQWCVqpAsw Amazon Echo Spot Revie...</td>\n",
       "    </tr>\n",
       "    <tr>\n",
       "      <th>92</th>\n",
       "      <td>951305422316756993</td>\n",
       "      <td>1</td>\n",
       "      <td>1</td>\n",
       "      <td>NEW FEATURE: You can now ask Alexa to show you...</td>\n",
       "    </tr>\n",
       "    <tr>\n",
       "      <th>101</th>\n",
       "      <td>951186556798341126</td>\n",
       "      <td>0</td>\n",
       "      <td>0</td>\n",
       "      <td>@StuffTV Thanks for your review of Echo Spot. ...</td>\n",
       "    </tr>\n",
       "    <tr>\n",
       "      <th>246</th>\n",
       "      <td>949368187983945729</td>\n",
       "      <td>0</td>\n",
       "      <td>3</td>\n",
       "      <td>Enter to win an @Amazon #EchoSpot from @GeekWi...</td>\n",
       "    </tr>\n",
       "    <tr>\n",
       "      <th>158</th>\n",
       "      <td>950527198733139968</td>\n",
       "      <td>0</td>\n",
       "      <td>0</td>\n",
       "      <td>Enter to win an @Amazon #EchoSpot from @GeekWi...</td>\n",
       "    </tr>\n",
       "    <tr>\n",
       "      <th>93</th>\n",
       "      <td>951305066471817216</td>\n",
       "      <td>0</td>\n",
       "      <td>1</td>\n",
       "      <td>3 things I loved about Amazon's newest Echo Sp...</td>\n",
       "    </tr>\n",
       "    <tr>\n",
       "      <th>195</th>\n",
       "      <td>950219023475765248</td>\n",
       "      <td>0</td>\n",
       "      <td>0</td>\n",
       "      <td>New blog post: Amazon Echo Spot Review https:/...</td>\n",
       "    </tr>\n",
       "    <tr>\n",
       "      <th>196</th>\n",
       "      <td>950193637492629505</td>\n",
       "      <td>0</td>\n",
       "      <td>0</td>\n",
       "      <td>New post (Introducing Echo Spot) has been publ...</td>\n",
       "    </tr>\n",
       "    <tr>\n",
       "      <th>244</th>\n",
       "      <td>949377514308284417</td>\n",
       "      <td>127</td>\n",
       "      <td>21</td>\n",
       "      <td>REGISTER NOW: @GoliathSolution live #myCUGC we...</td>\n",
       "    </tr>\n",
       "    <tr>\n",
       "      <th>81</th>\n",
       "      <td>951484628740616192</td>\n",
       "      <td>0</td>\n",
       "      <td>0</td>\n",
       "      <td>Building for Echo Show and Echo Spot: VUI &amp;amp...</td>\n",
       "    </tr>\n",
       "    <tr>\n",
       "      <th>222</th>\n",
       "      <td>949706167722348544</td>\n",
       "      <td>0</td>\n",
       "      <td>1</td>\n",
       "      <td>Amazon Echo Spot Review, Best Gear of 2017, Ca...</td>\n",
       "    </tr>\n",
       "    <tr>\n",
       "      <th>239</th>\n",
       "      <td>949444762137976832</td>\n",
       "      <td>0</td>\n",
       "      <td>2</td>\n",
       "      <td>The #EchoSpot is hot! Everyone needs one on th...</td>\n",
       "    </tr>\n",
       "    <tr>\n",
       "      <th>10</th>\n",
       "      <td>952346477359190016</td>\n",
       "      <td>0</td>\n",
       "      <td>1</td>\n",
       "      <td>@Fradice we're surrounded! i have the #EchoSpo...</td>\n",
       "    </tr>\n",
       "    <tr>\n",
       "      <th>202</th>\n",
       "      <td>950143780564426757</td>\n",
       "      <td>0</td>\n",
       "      <td>0</td>\n",
       "      <td>#EchoSpot music lyrics, weather forecasts, to-...</td>\n",
       "    </tr>\n",
       "    <tr>\n",
       "      <th>254</th>\n",
       "      <td>949323043284901888</td>\n",
       "      <td>0</td>\n",
       "      <td>0</td>\n",
       "      <td>Alexa Tip: Turn Echo Show or Echo Spot into a ...</td>\n",
       "    </tr>\n",
       "    <tr>\n",
       "      <th>46</th>\n",
       "      <td>951937912198828039</td>\n",
       "      <td>0</td>\n",
       "      <td>0</td>\n",
       "      <td>US $129.99 Echo Spot - Black https://t.co/rpaW...</td>\n",
       "    </tr>\n",
       "    <tr>\n",
       "      <th>223</th>\n",
       "      <td>949700798337839105</td>\n",
       "      <td>0</td>\n",
       "      <td>2</td>\n",
       "      <td>Links + summaries for all of this week's posts...</td>\n",
       "    </tr>\n",
       "    <tr>\n",
       "      <th>68</th>\n",
       "      <td>951520836632170498</td>\n",
       "      <td>0</td>\n",
       "      <td>1</td>\n",
       "      <td>An Amazon Echo device with a cute little scree...</td>\n",
       "    </tr>\n",
       "    <tr>\n",
       "      <th>219</th>\n",
       "      <td>949747652622798848</td>\n",
       "      <td>0</td>\n",
       "      <td>0</td>\n",
       "      <td>New Amazon Echo unit? This will walk you throu...</td>\n",
       "    </tr>\n",
       "    <tr>\n",
       "      <th>272</th>\n",
       "      <td>949219349671288832</td>\n",
       "      <td>0</td>\n",
       "      <td>0</td>\n",
       "      <td>#Bluetooth Not Working on #AmazonEcho Devices?...</td>\n",
       "    </tr>\n",
       "    <tr>\n",
       "      <th>282</th>\n",
       "      <td>949090732203298817</td>\n",
       "      <td>0</td>\n",
       "      <td>0</td>\n",
       "      <td>Amazon Echo Spot review: The alarm clock, rein...</td>\n",
       "    </tr>\n",
       "    <tr>\n",
       "      <th>164</th>\n",
       "      <td>950457354004451328</td>\n",
       "      <td>0</td>\n",
       "      <td>0</td>\n",
       "      <td>Product of the week: Introducing Echo Spot - W...</td>\n",
       "    </tr>\n",
       "    <tr>\n",
       "      <th>167</th>\n",
       "      <td>950442282909609984</td>\n",
       "      <td>0</td>\n",
       "      <td>0</td>\n",
       "      <td>Alexa Tip: Turn Echo Show or Echo Spot into a ...</td>\n",
       "    </tr>\n",
       "    <tr>\n",
       "      <th>207</th>\n",
       "      <td>949917297577283584</td>\n",
       "      <td>0</td>\n",
       "      <td>0</td>\n",
       "      <td>Amazon’s Echo Spot Is a Good-as-Hell Alarm Clo...</td>\n",
       "    </tr>\n",
       "    <tr>\n",
       "      <th>180</th>\n",
       "      <td>950407207522328582</td>\n",
       "      <td>0</td>\n",
       "      <td>0</td>\n",
       "      <td>Amazon Echo Spot review | Stuff https://t.co/v...</td>\n",
       "    </tr>\n",
       "    <tr>\n",
       "      <th>252</th>\n",
       "      <td>949323146934542338</td>\n",
       "      <td>0</td>\n",
       "      <td>0</td>\n",
       "      <td>Alexa Tip: Turn Echo Show or Echo Spot into a ...</td>\n",
       "    </tr>\n",
       "    <tr>\n",
       "      <th>177</th>\n",
       "      <td>950409159953887233</td>\n",
       "      <td>1</td>\n",
       "      <td>1</td>\n",
       "      <td>This week's LME #AmazonAlexa #eastereggs https...</td>\n",
       "    </tr>\n",
       "    <tr>\n",
       "      <th>118</th>\n",
       "      <td>950926743367553024</td>\n",
       "      <td>0</td>\n",
       "      <td>0</td>\n",
       "      <td>Buy Cheap #7: Echo Spot - White https://t.co/4...</td>\n",
       "    </tr>\n",
       "    <tr>\n",
       "      <th>172</th>\n",
       "      <td>950427237798596611</td>\n",
       "      <td>0</td>\n",
       "      <td>0</td>\n",
       "      <td>Alexa Tip: Take a Selfie with Echo Show and Ec...</td>\n",
       "    </tr>\n",
       "    <tr>\n",
       "      <th>150</th>\n",
       "      <td>950640369104023552</td>\n",
       "      <td>0</td>\n",
       "      <td>1</td>\n",
       "      <td>Amazon's newest Echo is designed to be the per...</td>\n",
       "    </tr>\n",
       "  </tbody>\n",
       "</table>\n",
       "</div>"
      ],
      "text/plain": [
       "                     id  retweet_count  favorite_count  \\\n",
       "198  950173740595384321              1               2   \n",
       "92   951305422316756993              1               1   \n",
       "101  951186556798341126              0               0   \n",
       "246  949368187983945729              0               3   \n",
       "158  950527198733139968              0               0   \n",
       "93   951305066471817216              0               1   \n",
       "195  950219023475765248              0               0   \n",
       "196  950193637492629505              0               0   \n",
       "244  949377514308284417            127              21   \n",
       "81   951484628740616192              0               0   \n",
       "222  949706167722348544              0               1   \n",
       "239  949444762137976832              0               2   \n",
       "10   952346477359190016              0               1   \n",
       "202  950143780564426757              0               0   \n",
       "254  949323043284901888              0               0   \n",
       "46   951937912198828039              0               0   \n",
       "223  949700798337839105              0               2   \n",
       "68   951520836632170498              0               1   \n",
       "219  949747652622798848              0               0   \n",
       "272  949219349671288832              0               0   \n",
       "282  949090732203298817              0               0   \n",
       "164  950457354004451328              0               0   \n",
       "167  950442282909609984              0               0   \n",
       "207  949917297577283584              0               0   \n",
       "180  950407207522328582              0               0   \n",
       "252  949323146934542338              0               0   \n",
       "177  950409159953887233              1               1   \n",
       "118  950926743367553024              0               0   \n",
       "172  950427237798596611              0               0   \n",
       "150  950640369104023552              0               1   \n",
       "\n",
       "                                             full_text  \n",
       "198  https://t.co/vQWCVqpAsw Amazon Echo Spot Revie...  \n",
       "92   NEW FEATURE: You can now ask Alexa to show you...  \n",
       "101  @StuffTV Thanks for your review of Echo Spot. ...  \n",
       "246  Enter to win an @Amazon #EchoSpot from @GeekWi...  \n",
       "158  Enter to win an @Amazon #EchoSpot from @GeekWi...  \n",
       "93   3 things I loved about Amazon's newest Echo Sp...  \n",
       "195  New blog post: Amazon Echo Spot Review https:/...  \n",
       "196  New post (Introducing Echo Spot) has been publ...  \n",
       "244  REGISTER NOW: @GoliathSolution live #myCUGC we...  \n",
       "81   Building for Echo Show and Echo Spot: VUI &amp...  \n",
       "222  Amazon Echo Spot Review, Best Gear of 2017, Ca...  \n",
       "239  The #EchoSpot is hot! Everyone needs one on th...  \n",
       "10   @Fradice we're surrounded! i have the #EchoSpo...  \n",
       "202  #EchoSpot music lyrics, weather forecasts, to-...  \n",
       "254  Alexa Tip: Turn Echo Show or Echo Spot into a ...  \n",
       "46   US $129.99 Echo Spot - Black https://t.co/rpaW...  \n",
       "223  Links + summaries for all of this week's posts...  \n",
       "68   An Amazon Echo device with a cute little scree...  \n",
       "219  New Amazon Echo unit? This will walk you throu...  \n",
       "272  #Bluetooth Not Working on #AmazonEcho Devices?...  \n",
       "282  Amazon Echo Spot review: The alarm clock, rein...  \n",
       "164  Product of the week: Introducing Echo Spot - W...  \n",
       "167  Alexa Tip: Turn Echo Show or Echo Spot into a ...  \n",
       "207  Amazon’s Echo Spot Is a Good-as-Hell Alarm Clo...  \n",
       "180  Amazon Echo Spot review | Stuff https://t.co/v...  \n",
       "252  Alexa Tip: Turn Echo Show or Echo Spot into a ...  \n",
       "177  This week's LME #AmazonAlexa #eastereggs https...  \n",
       "118  Buy Cheap #7: Echo Spot - White https://t.co/4...  \n",
       "172  Alexa Tip: Take a Selfie with Echo Show and Ec...  \n",
       "150  Amazon's newest Echo is designed to be the per...  "
      ]
     },
     "execution_count": 33,
     "metadata": {},
     "output_type": "execute_result"
    }
   ],
   "source": [
    "s = df_tweets.sample(30)\n",
    "s.to_csv('spot_sample30.csv', sep=',', encoding='utf-8', index = False)\n",
    "df_tweets.to_csv('spot_full.csv', sep = ',', encoding = 'utf-8', index = False)\n",
    "s"
   ]
  },
  {
   "cell_type": "markdown",
   "metadata": {},
   "source": [
    "# Clean Tweets"
   ]
  },
  {
   "cell_type": "code",
   "execution_count": 56,
   "metadata": {},
   "outputs": [
    {
     "data": {
      "text/html": [
       "<div>\n",
       "<style>\n",
       "    .dataframe thead tr:only-child th {\n",
       "        text-align: right;\n",
       "    }\n",
       "\n",
       "    .dataframe thead th {\n",
       "        text-align: left;\n",
       "    }\n",
       "\n",
       "    .dataframe tbody tr th {\n",
       "        vertical-align: top;\n",
       "    }\n",
       "</style>\n",
       "<table border=\"1\" class=\"dataframe\">\n",
       "  <thead>\n",
       "    <tr style=\"text-align: right;\">\n",
       "      <th></th>\n",
       "      <th>id</th>\n",
       "      <th>retweet_count</th>\n",
       "      <th>favorite_count</th>\n",
       "      <th>full_text</th>\n",
       "    </tr>\n",
       "  </thead>\n",
       "  <tbody>\n",
       "    <tr>\n",
       "      <th>0</th>\n",
       "      <td>952610719018766337</td>\n",
       "      <td>0</td>\n",
       "      <td>0</td>\n",
       "      <td>Building for Echo Show and Echo Spot: VUI &amp;amp...</td>\n",
       "    </tr>\n",
       "    <tr>\n",
       "      <th>1</th>\n",
       "      <td>952596248367980544</td>\n",
       "      <td>0</td>\n",
       "      <td>0</td>\n",
       "      <td>Enter to win an @Amazon #EchoSpot from @GeekWi...</td>\n",
       "    </tr>\n",
       "    <tr>\n",
       "      <th>2</th>\n",
       "      <td>952578109492088832</td>\n",
       "      <td>0</td>\n",
       "      <td>0</td>\n",
       "      <td>Enter to win an @Amazon #EchoSpot from @GeekWi...</td>\n",
       "    </tr>\n",
       "    <tr>\n",
       "      <th>3</th>\n",
       "      <td>952559816152674306</td>\n",
       "      <td>0</td>\n",
       "      <td>0</td>\n",
       "      <td>How to Disable the Camera on the Echo Spot htt...</td>\n",
       "    </tr>\n",
       "    <tr>\n",
       "      <th>4</th>\n",
       "      <td>952549940068102144</td>\n",
       "      <td>0</td>\n",
       "      <td>0</td>\n",
       "      <td>#FreeKindleBook [Education &amp;amp; Teaching][Fre...</td>\n",
       "    </tr>\n",
       "  </tbody>\n",
       "</table>\n",
       "</div>"
      ],
      "text/plain": [
       "                   id  retweet_count  favorite_count  \\\n",
       "0  952610719018766337              0               0   \n",
       "1  952596248367980544              0               0   \n",
       "2  952578109492088832              0               0   \n",
       "3  952559816152674306              0               0   \n",
       "4  952549940068102144              0               0   \n",
       "\n",
       "                                           full_text  \n",
       "0  Building for Echo Show and Echo Spot: VUI &amp...  \n",
       "1  Enter to win an @Amazon #EchoSpot from @GeekWi...  \n",
       "2  Enter to win an @Amazon #EchoSpot from @GeekWi...  \n",
       "3  How to Disable the Camera on the Echo Spot htt...  \n",
       "4  #FreeKindleBook [Education &amp; Teaching][Fre...  "
      ]
     },
     "execution_count": 56,
     "metadata": {},
     "output_type": "execute_result"
    }
   ],
   "source": [
    "bkup_copy_df_tweets = df_tweets\n",
    "df_tweets.head(30)\n",
    "s1 = df_tweets.head(5)\n",
    "s1"
   ]
  },
  {
   "cell_type": "code",
   "execution_count": 89,
   "metadata": {},
   "outputs": [],
   "source": [
    "def clean_tweet_text(df):\n",
    "    #remove hyperlinks, user mentions and special characters\n",
    "    for i, row in df.iterrows():\n",
    "        t = row['full_text']        \n",
    "        t = re.sub('(\\w+:\\/\\/\\S+)', \" \",t)# remove hyperlinks\n",
    "        t = re.sub(\"(@[A-Za-z0-9]+)\", \" \",t)#remove user mentions\n",
    "        t = re.sub(\"#\",\"\", t) #remove hash\n",
    "        t = re.sub('&amp',' ',t) #remove & which is written as &amp\n",
    "        t = re.sub('[^0-9a-zA-Z \\t]', \" \",t) #remove special characters\n",
    "        t = re.sub('\\s+',' ',t).strip() #remove unwanted whitespaces\n",
    "        \n",
    "        df['text'].iloc[i] = t\n",
    "    return df\n",
    "\n",
    "df_clean_tweets = clean_tweet_text(df_tweets)"
   ]
  },
  {
   "cell_type": "code",
   "execution_count": 93,
   "metadata": {},
   "outputs": [
    {
     "data": {
      "text/html": [
       "<div>\n",
       "<style>\n",
       "    .dataframe thead tr:only-child th {\n",
       "        text-align: right;\n",
       "    }\n",
       "\n",
       "    .dataframe thead th {\n",
       "        text-align: left;\n",
       "    }\n",
       "\n",
       "    .dataframe tbody tr th {\n",
       "        vertical-align: top;\n",
       "    }\n",
       "</style>\n",
       "<table border=\"1\" class=\"dataframe\">\n",
       "  <thead>\n",
       "    <tr style=\"text-align: right;\">\n",
       "      <th></th>\n",
       "      <th>id</th>\n",
       "      <th>retweet_count</th>\n",
       "      <th>favorite_count</th>\n",
       "      <th>full_text</th>\n",
       "      <th>text</th>\n",
       "    </tr>\n",
       "  </thead>\n",
       "  <tbody>\n",
       "    <tr>\n",
       "      <th>0</th>\n",
       "      <td>952610719018766337</td>\n",
       "      <td>0</td>\n",
       "      <td>0</td>\n",
       "      <td>Building for Echo Show and Echo Spot: VUI &amp;amp...</td>\n",
       "      <td>Building for Echo Show and Echo Spot VUI GUI B...</td>\n",
       "    </tr>\n",
       "    <tr>\n",
       "      <th>1</th>\n",
       "      <td>952596248367980544</td>\n",
       "      <td>0</td>\n",
       "      <td>0</td>\n",
       "      <td>Enter to win an @Amazon #EchoSpot from @GeekWi...</td>\n",
       "      <td>Enter to win an EchoSpot from sweeps giveaways</td>\n",
       "    </tr>\n",
       "    <tr>\n",
       "      <th>2</th>\n",
       "      <td>952578109492088832</td>\n",
       "      <td>0</td>\n",
       "      <td>0</td>\n",
       "      <td>Enter to win an @Amazon #EchoSpot from @GeekWi...</td>\n",
       "      <td>Enter to win an EchoSpot from sweeps giveaways</td>\n",
       "    </tr>\n",
       "    <tr>\n",
       "      <th>3</th>\n",
       "      <td>952559816152674306</td>\n",
       "      <td>0</td>\n",
       "      <td>0</td>\n",
       "      <td>How to Disable the Camera on the Echo Spot htt...</td>\n",
       "      <td>How to Disable the Camera on the Echo Spot</td>\n",
       "    </tr>\n",
       "    <tr>\n",
       "      <th>4</th>\n",
       "      <td>952549940068102144</td>\n",
       "      <td>0</td>\n",
       "      <td>0</td>\n",
       "      <td>#FreeKindleBook [Education &amp;amp; Teaching][Fre...</td>\n",
       "      <td>FreeKindleBook Education Teaching Free Amazon ...</td>\n",
       "    </tr>\n",
       "  </tbody>\n",
       "</table>\n",
       "</div>"
      ],
      "text/plain": [
       "                   id  retweet_count  favorite_count  \\\n",
       "0  952610719018766337              0               0   \n",
       "1  952596248367980544              0               0   \n",
       "2  952578109492088832              0               0   \n",
       "3  952559816152674306              0               0   \n",
       "4  952549940068102144              0               0   \n",
       "\n",
       "                                           full_text  \\\n",
       "0  Building for Echo Show and Echo Spot: VUI &amp...   \n",
       "1  Enter to win an @Amazon #EchoSpot from @GeekWi...   \n",
       "2  Enter to win an @Amazon #EchoSpot from @GeekWi...   \n",
       "3  How to Disable the Camera on the Echo Spot htt...   \n",
       "4  #FreeKindleBook [Education &amp; Teaching][Fre...   \n",
       "\n",
       "                                                text  \n",
       "0  Building for Echo Show and Echo Spot VUI GUI B...  \n",
       "1     Enter to win an EchoSpot from sweeps giveaways  \n",
       "2     Enter to win an EchoSpot from sweeps giveaways  \n",
       "3         How to Disable the Camera on the Echo Spot  \n",
       "4  FreeKindleBook Education Teaching Free Amazon ...  "
      ]
     },
     "execution_count": 93,
     "metadata": {},
     "output_type": "execute_result"
    }
   ],
   "source": [
    "df_clean_tweets.head(5)"
   ]
  },
  {
   "cell_type": "markdown",
   "metadata": {},
   "source": [
    "# Sentiment Analysis"
   ]
  },
  {
   "cell_type": "markdown",
   "metadata": {},
   "source": [
    "Using TextBlob to analyze tweets' sentiment"
   ]
  },
  {
   "cell_type": "code",
   "execution_count": 99,
   "metadata": {},
   "outputs": [],
   "source": [
    "def analyze_sentiment(df):\n",
    "    df_out = pd.DataFrame(columns = ['text','polarity','subjectivity'])\n",
    "    for i, row in df.iterrows():\n",
    "        text = row['text']\n",
    "\n",
    "        #creating aTextBlob object \n",
    "        analyze = TextBlob(text) \n",
    "        \n",
    "        #populate output dataframe \n",
    "        df_out = df_out.append({'text': text, \n",
    "                       'polarity': analyze.sentiment.polarity,\n",
    "                       'subjectivity': analyze.sentiment.subjectivity},\n",
    "                      ignore_index = True) \n",
    "    return df_out\n",
    "\n",
    "df_sentiments = analyze_sentiment(df_clean_tweets)"
   ]
  },
  {
   "cell_type": "code",
   "execution_count": 101,
   "metadata": {},
   "outputs": [],
   "source": [
    "df_sentiments.to_csv('sentiments.csv', sep=',', encoding='utf-8', index = False)"
   ]
  },
  {
   "cell_type": "markdown",
   "metadata": {},
   "source": [
    "### Clean\n",
    "\n",
    "In order to clean the dataset let's first create a copy of the dataset and check if it has been populated as expected."
   ]
  },
  {
   "cell_type": "code",
   "execution_count": 243,
   "metadata": {
    "collapsed": true
   },
   "outputs": [],
   "source": [
    "twitter_arc_master_clean = twitter_archive_master.copy()\n"
   ]
  },
  {
   "cell_type": "code",
   "execution_count": 245,
   "metadata": {
    "collapsed": true
   },
   "outputs": [],
   "source": [
    "t = twitter_arc_master_clean.sample(500)\n",
    "t.to_csv('check.csv', encoding = 'utf-8')"
   ]
  },
  {
   "cell_type": "code",
   "execution_count": 246,
   "metadata": {},
   "outputs": [
    {
     "name": "stdout",
     "output_type": "stream",
     "text": [
      "<class 'pandas.core.frame.DataFrame'>\n",
      "Int64Index: 1997 entries, 0 to 1996\n",
      "Data columns (total 31 columns):\n",
      "tweet_id                      1997 non-null int64\n",
      "in_reply_to_status_id         23 non-null float64\n",
      "in_reply_to_user_id           23 non-null float64\n",
      "timestamp                     1997 non-null object\n",
      "source                        1997 non-null object\n",
      "text                          1997 non-null object\n",
      "retweeted_status_id           0 non-null float64\n",
      "retweeted_status_user_id      0 non-null float64\n",
      "retweeted_status_timestamp    0 non-null object\n",
      "expanded_urls                 1997 non-null object\n",
      "rating_numerator              1997 non-null int64\n",
      "rating_denominator            1997 non-null int64\n",
      "name                          1997 non-null object\n",
      "doggo                         1997 non-null object\n",
      "floofer                       1997 non-null object\n",
      "pupper                        1997 non-null object\n",
      "puppo                         1997 non-null object\n",
      "retweet_count                 1997 non-null int64\n",
      "favorite_count                1997 non-null int64\n",
      "description                   1997 non-null object\n",
      "jpg_url                       1997 non-null object\n",
      "img_num                       1997 non-null int64\n",
      "p1                            1997 non-null object\n",
      "p1_conf                       1997 non-null float64\n",
      "p1_dog                        1997 non-null bool\n",
      "p2                            1997 non-null object\n",
      "p2_conf                       1997 non-null float64\n",
      "p2_dog                        1997 non-null bool\n",
      "p3                            1997 non-null object\n",
      "p3_conf                       1997 non-null float64\n",
      "p3_dog                        1997 non-null bool\n",
      "dtypes: bool(3), float64(7), int64(6), object(15)\n",
      "memory usage: 458.3+ KB\n"
     ]
    }
   ],
   "source": [
    "twitter_arc_master_clean.info()"
   ]
  },
  {
   "cell_type": "markdown",
   "metadata": {},
   "source": [
    "#### Addressing tidiness issue 1\n",
    "The dog stages 4 columns should actually be just one column 'dog_stage' with 4 options viz. pupper, puppo, doggo, floofer with datatype 'category'\n",
    "\n",
    "##### Definition\n",
    "Create new column 'dog_stage' values in columns pupper,puppo,doggo,floofer. \n",
    "Then drop the old columns (pupper,puppo,doggo,floofer).\n",
    "\n",
    "##### Code"
   ]
  },
  {
   "cell_type": "code",
   "execution_count": 247,
   "metadata": {},
   "outputs": [
    {
     "name": "stdout",
     "output_type": "stream",
     "text": [
      "Dogstage column created successfully\n"
     ]
    }
   ],
   "source": [
    "\n",
    "def merge_dogstage(df):\n",
    "    for index, row in df.iterrows():\n",
    "        stage_list =[]\n",
    "        stage_list.append([row['doggo'],row['floofer'],row['pupper'],row['puppo']]) \n",
    "\n",
    "        for lst in stage_list:\n",
    "            for stage in lst:\n",
    "                if stage not in ['None']:\n",
    "                # this is because iterrows does not provide access to original dataframe but we do have original index!!\n",
    "                    df.loc[index,'dog_stage'] = stage \n",
    "    #deleting old columns\n",
    "    #print list(df)\n",
    "    #    patients_clean = patients_clean.drop('contact', axis=1)\n",
    "    df = df.drop(['pupper','puppo','doggo','floofer'], axis = 1, inplace=True)\n",
    "    #print list(df)\n",
    "    print 'Dogstage column created successfully'\n",
    "    return None\n",
    "\n",
    "merge_dogstage(twitter_arc_master_clean)\n",
    "twitter_arc_master_clean.dog_stage = twitter_arc_master_clean.dog_stage.astype('category')\n"
   ]
  },
  {
   "cell_type": "markdown",
   "metadata": {},
   "source": [
    "##### Test"
   ]
  },
  {
   "cell_type": "code",
   "execution_count": 248,
   "metadata": {},
   "outputs": [
    {
     "name": "stdout",
     "output_type": "stream",
     "text": [
      "['tweet_id', 'in_reply_to_status_id', 'in_reply_to_user_id', 'timestamp', 'source', 'text', 'retweeted_status_id', 'retweeted_status_user_id', 'retweeted_status_timestamp', 'expanded_urls', 'rating_numerator', 'rating_denominator', 'name', 'retweet_count', 'favorite_count', 'description', 'jpg_url', 'img_num', 'p1', 'p1_conf', 'p1_dog', 'p2', 'p2_conf', 'p2_dog', 'p3', 'p3_conf', 'p3_dog', 'dog_stage']\n"
     ]
    },
    {
     "data": {
      "text/plain": [
       "[NaN, doggo, puppo, pupper, floofer]\n",
       "Categories (4, object): [doggo, puppo, pupper, floofer]"
      ]
     },
     "execution_count": 248,
     "metadata": {},
     "output_type": "execute_result"
    }
   ],
   "source": [
    "print list(twitter_arc_master_clean)\n",
    "twitter_arc_master_clean.dog_stage.unique()"
   ]
  },
  {
   "cell_type": "markdown",
   "metadata": {},
   "source": [
    "#### Addressing tidiness issue #2\n",
    "The expanded_urls column has same url listed once/twice/thrice depending on number of images uploaded. \n",
    "\n",
    "##### Definition\n",
    "List only one value of the url and make a new column 'count_media' to indicate number of media (photos/vine videos) uploaded for the tweet\n",
    "\n",
    "Below I am collecting sample test data for testing the code snippet below.\n"
   ]
  },
  {
   "cell_type": "code",
   "execution_count": 249,
   "metadata": {},
   "outputs": [
    {
     "name": "stdout",
     "output_type": "stream",
     "text": [
      "403    https://twitter.com/dog_rates/status/807106840...\n",
      "Name: expanded_urls, dtype: object\n",
      "996    https://twitter.com/dog_rates/status/708810915...\n",
      "Name: expanded_urls, dtype: object\n"
     ]
    }
   ],
   "source": [
    "#tweet with id = 807106840509214720 has one expanded_urls. \n",
    "#tweet with id = 708810915978854401 has three expanded_urls. \n",
    "\n",
    "print twitter_arc_master_clean.loc[(twitter_arc_master_clean.tweet_id == 807106840509214720), 'expanded_urls']\n",
    "print twitter_arc_master_clean.loc[(twitter_arc_master_clean.tweet_id == 708810915978854401), 'expanded_urls']"
   ]
  },
  {
   "cell_type": "markdown",
   "metadata": {},
   "source": [
    "##### Code"
   ]
  },
  {
   "cell_type": "code",
   "execution_count": 250,
   "metadata": {
    "collapsed": true
   },
   "outputs": [],
   "source": [
    "urls = twitter_arc_master_clean.expanded_urls\n",
    "urls = list(urls)\n",
    "\n",
    "for i in range(len(twitter_arc_master_clean)):\n",
    "    \n",
    "    if type(urls[i]) == str: #exclude nan entries\n",
    "        \n",
    "        urls_list = urls[i].split(',')\n",
    "        num_media = len(urls_list)\n",
    "        twitter_arc_master_clean.loc[i,'count_media'] = num_media\n",
    "        unique_urls_list = list(set(urls_list))\n",
    "        flag = True\n",
    "        if num_media > 1: #to get rows with multiple links\n",
    "            for link in unique_urls_list:\n",
    "                if 'twitter' in link: #if there is a twitter and a non-twitter link choose the twitter link\n",
    "                    flag = False\n",
    "                    twitter_arc_master_clean.loc[i,'expanded_urls'] = link\n",
    "\n",
    "            if flag:\n",
    "                #print unique_urls_list\n",
    "                twitter_arc_master_clean.loc[i,'expanded_urls'] = unique_urls_list[0]"
   ]
  },
  {
   "cell_type": "markdown",
   "metadata": {},
   "source": [
    "##### Test"
   ]
  },
  {
   "cell_type": "code",
   "execution_count": 251,
   "metadata": {},
   "outputs": [
    {
     "name": "stdout",
     "output_type": "stream",
     "text": [
      "All urls in expanded_urls column are correct!\n"
     ]
    }
   ],
   "source": [
    "#testing expanded_urls to see if it contains only one url.\n",
    "count = 0\n",
    "for index, row in twitter_arc_master_clean.iterrows():\n",
    "    #print row.expanded_urls\n",
    "    if pd.notnull(row.expanded_urls):\n",
    "        if (',' in row.expanded_urls):\n",
    "            count = count + 1\n",
    "            print 'Tweet %d has incorrect expanded_urls %s' %(row.tweet_id, row.expanded_urls)\n",
    "if count == 0:\n",
    "    print 'All urls in expanded_urls column are correct!'\n",
    "else:\n",
    "    print '%d rows with urls need to be fixed' %count\n",
    "\n",
    "#twitter_arc_master_clean.sample(100) \n"
   ]
  },
  {
   "cell_type": "code",
   "execution_count": 252,
   "metadata": {},
   "outputs": [
    {
     "name": "stdout",
     "output_type": "stream",
     "text": [
      "403    1.0\n",
      "Name: count_media, dtype: float64\n",
      "996    3.0\n",
      "Name: count_media, dtype: float64\n"
     ]
    }
   ],
   "source": [
    "#testing to see if 'count_media' column has correct number captured.\n",
    "#tweet with id = 807106840509214720 has one expanded_urls. Thus count_media should have number 1.\n",
    "#tweet with id = 708810915978854401 has three expanded_urls. Thus count_media should have number 3.\n",
    "\n",
    "print twitter_arc_master_clean.loc[(twitter_arc_master_clean.tweet_id == 807106840509214720), 'count_media']\n",
    "print twitter_arc_master_clean.loc[(twitter_arc_master_clean.tweet_id == 708810915978854401), 'count_media']"
   ]
  },
  {
   "cell_type": "markdown",
   "metadata": {},
   "source": [
    "#### Addressing quality issue #1:\n",
    "##### Definition\n",
    "Add the name 'Max' for tweet with ID = 778039087836069888\n",
    "\n",
    "##### Code"
   ]
  },
  {
   "cell_type": "code",
   "execution_count": 253,
   "metadata": {
    "collapsed": true
   },
   "outputs": [],
   "source": [
    "twitter_arc_master_clean.loc[(twitter_arc_master_clean.tweet_id == 778039087836069888),'name'] = 'Max'"
   ]
  },
  {
   "cell_type": "markdown",
   "metadata": {},
   "source": [
    "##### Test"
   ]
  },
  {
   "cell_type": "code",
   "execution_count": 254,
   "metadata": {},
   "outputs": [
    {
     "data": {
      "text/plain": [
       "555    Max\n",
       "Name: name, dtype: object"
      ]
     },
     "execution_count": 254,
     "metadata": {},
     "output_type": "execute_result"
    }
   ],
   "source": [
    "twitter_arc_master_clean.loc[(twitter_arc_master_clean.tweet_id == 778039087836069888),'name']"
   ]
  },
  {
   "cell_type": "markdown",
   "metadata": {},
   "source": [
    "#### Addressing quality issue #2\n",
    "##### Definition\n",
    "Add 'Roxy' for name (based on IG tag in text) in record with Tweet_id = 887517139158093824 instead of incorrect name = 'such'\n",
    "\n",
    "##### Code"
   ]
  },
  {
   "cell_type": "code",
   "execution_count": 255,
   "metadata": {
    "collapsed": true
   },
   "outputs": [],
   "source": [
    "twitter_arc_master_clean.loc[(twitter_arc_master_clean['tweet_id']== 887517139158093824),'name'] = 'Roxy'"
   ]
  },
  {
   "cell_type": "code",
   "execution_count": 257,
   "metadata": {},
   "outputs": [
    {
     "data": {
      "text/plain": [
       "24    Roxy\n",
       "Name: name, dtype: object"
      ]
     },
     "execution_count": 257,
     "metadata": {},
     "output_type": "execute_result"
    }
   ],
   "source": [
    "#test\n",
    "twitter_arc_master_clean.loc[(twitter_arc_master_clean['tweet_id']== 887517139158093824),'name']\n"
   ]
  },
  {
   "cell_type": "markdown",
   "metadata": {},
   "source": [
    "#### Addressing quality issue #3\n",
    "##### Definition\n",
    "Update 'Canela' under 'name' column for record with Tweet_id = 887473957103951883 instead of NaN.\n",
    "\n",
    "##### Code"
   ]
  },
  {
   "cell_type": "code",
   "execution_count": 258,
   "metadata": {
    "collapsed": true
   },
   "outputs": [],
   "source": [
    "twitter_arc_master_clean.loc[(twitter_arc_master_clean['tweet_id']== 887473957103951883),'name'] = 'Canela'"
   ]
  },
  {
   "cell_type": "code",
   "execution_count": 259,
   "metadata": {},
   "outputs": [
    {
     "data": {
      "text/plain": [
       "25    Canela\n",
       "Name: name, dtype: object"
      ]
     },
     "execution_count": 259,
     "metadata": {},
     "output_type": "execute_result"
    }
   ],
   "source": [
    "#test\n",
    "twitter_arc_master_clean.loc[(twitter_arc_master_clean['tweet_id']== 887473957103951883),'name']\n"
   ]
  },
  {
   "cell_type": "markdown",
   "metadata": {},
   "source": [
    "#### Addressing quality issue #4\n",
    "##### Definition\n",
    "update name as np.NaN for rows that have incorrectly extracted names included here ['a','the','an','None']\n",
    "\n",
    "##### Code"
   ]
  },
  {
   "cell_type": "code",
   "execution_count": 260,
   "metadata": {
    "collapsed": true
   },
   "outputs": [],
   "source": [
    "for index, row in twitter_arc_master_clean.iterrows():\n",
    "    if  row['name'] in ['a','the','an','None']:\n",
    "        #print row['tweet_id'], row['name'], row['description']\n",
    "        twitter_arc_master_clean.loc[index,'name'] = np.NaN"
   ]
  },
  {
   "cell_type": "markdown",
   "metadata": {},
   "source": [
    "##### Test"
   ]
  },
  {
   "cell_type": "code",
   "execution_count": 263,
   "metadata": {},
   "outputs": [
    {
     "name": "stdout",
     "output_type": "stream",
     "text": [
      "167    NaN\n",
      "Name: name, dtype: object\n",
      "52    NaN\n",
      "Name: name, dtype: object\n"
     ]
    }
   ],
   "source": [
    "#Records with tweet ids below earlier had following names:\n",
    "#851591660324737024 None, 881536004380872706 a\n",
    "print twitter_arc_master_clean.loc[(twitter_arc_master_clean.tweet_id == 851591660324737024),'name']\n",
    "print twitter_arc_master_clean.loc[(twitter_arc_master_clean.tweet_id == 881536004380872706),'name']\n"
   ]
  },
  {
   "cell_type": "markdown",
   "metadata": {},
   "source": [
    "#### Addressing quality issue #5 and 6\n",
    "##### Definition\n",
    "Extract correct ratings for numerator and denominator using the description text. Sample correct ratings: 6/10, 11/10, 21/10.\n",
    "\n",
    "##### Code"
   ]
  },
  {
   "cell_type": "code",
   "execution_count": 264,
   "metadata": {
    "collapsed": true
   },
   "outputs": [],
   "source": [
    "for index, row in twitter_arc_master_clean.iterrows():\n",
    "    denom = row['rating_denominator']\n",
    "    desc = row['description']\n",
    "    if pd.notnull(denom) & (denom != 10.0): \n",
    "        #print row['rating_numerator'],denom, row['tweet_id']\n",
    "        regexp = ur'((\\d+)/(\\d+))'\n",
    "        result = re.findall(regexp, desc)\n",
    "        #print result, len(result)\n",
    "        \n",
    "        for i in range(len(result)):\n",
    "            if result[i][-1] in ['10']:    \n",
    "                twitter_arc_master_clean.loc[index,'rating_numerator'] = float(result[i][-2])\n",
    "                twitter_arc_master_clean.loc[index,'rating_denominator'] = 10.0\n",
    "            else:\n",
    "                twitter_arc_master_clean.loc[index,'rating_numerator'] = np.NaN\n",
    "                twitter_arc_master_clean.loc[index,'rating_denominator'] = np.NaN\n"
   ]
  },
  {
   "cell_type": "markdown",
   "metadata": {},
   "source": [
    "##### Test"
   ]
  },
  {
   "cell_type": "code",
   "execution_count": 265,
   "metadata": {},
   "outputs": [
    {
     "name": "stdout",
     "output_type": "stream",
     "text": [
      "All denominators are either NaN or 10.0\n"
     ]
    }
   ],
   "source": [
    "count = 0\n",
    "for index, row in twitter_arc_master_clean.iterrows():\n",
    "    denom = row['rating_denominator']\n",
    "    if pd.notnull(denom) & (denom != 10): \n",
    "        count = count + 1\n",
    "        print denom, row['rating_numerator'], row['tweet_id'], row['description']\n",
    "        \n",
    "if count==0:\n",
    "    print 'All denominators are either NaN or 10.0'\n",
    "else:\n",
    "    print '%d row(s) has/have denominator that is neither NaN nor 10.' %count"
   ]
  },
  {
   "cell_type": "markdown",
   "metadata": {},
   "source": [
    "#### Addressing quality issue #7 and 8\n",
    "##### Definition\n",
    "#7. Record with Tweet_id = 828011680017821696 actually has two dogs Brutus and Jersey. \n",
    "Need to capture info for both and distinguish the two.\n",
    "#8. Record with Tweet_id = 678396796259975168 actually has two dogs (names not provided). \n",
    "Need to capture info for both and distinguish the two.\n",
    "\n",
    "I DONT know how to resolve this quality issue that is whether I should create an additional row for the second name to keep 1 dog per row but then the tweet_id column would no longer act as a key for the table. \n",
    "I also am not sure if should comma separate the two names, as this would violate the rule of one value per cell.\n",
    "\n",
    "\n",
    "##### Code and Test \n",
    "to be added if needed."
   ]
  },
  {
   "cell_type": "markdown",
   "metadata": {},
   "source": [
    "#### Addressing quality issue #9\n",
    "\n",
    "##### Definition\n",
    "Replace name 'sweet' with 'sweet pea' for record with tweet_id = 825147591692263424\n",
    "\n",
    "##### Code"
   ]
  },
  {
   "cell_type": "code",
   "execution_count": 266,
   "metadata": {
    "collapsed": true
   },
   "outputs": [],
   "source": [
    "twitter_arc_master_clean.loc[(twitter_arc_master_clean['tweet_id']== 825147591692263424), 'name'] = 'sweet pea'"
   ]
  },
  {
   "cell_type": "markdown",
   "metadata": {},
   "source": [
    "##### Test"
   ]
  },
  {
   "cell_type": "code",
   "execution_count": 267,
   "metadata": {},
   "outputs": [
    {
     "data": {
      "text/plain": [
       "301    sweet pea\n",
       "Name: name, dtype: object"
      ]
     },
     "execution_count": 267,
     "metadata": {},
     "output_type": "execute_result"
    }
   ],
   "source": [
    "twitter_arc_master_clean.loc[(twitter_arc_master_clean['tweet_id']== 825147591692263424), 'name']"
   ]
  },
  {
   "cell_type": "markdown",
   "metadata": {},
   "source": [
    "#### Addressing quality issue #10\n",
    "\n",
    "##### Definition\n",
    "Replace all missing values indicated by 'None' string (if any) with np.NaN\n",
    "\n",
    "##### Code"
   ]
  },
  {
   "cell_type": "code",
   "execution_count": 268,
   "metadata": {
    "collapsed": true
   },
   "outputs": [],
   "source": [
    "twitter_arc_master_clean.replace({'None': np.NaN},inplace = True)"
   ]
  },
  {
   "cell_type": "markdown",
   "metadata": {},
   "source": [
    "##### Test"
   ]
  },
  {
   "cell_type": "code",
   "execution_count": 272,
   "metadata": {
    "collapsed": true
   },
   "outputs": [],
   "source": [
    "#check if 'None' is present in twitter_arc_master_clean\n",
    "d = twitter_arc_master_clean.isin(['None']) #returns boolean dataframe \n",
    "c = d.drop_duplicates()\n",
    "if len(c)>1:\n",
    "    print 'some entries still have ''None' 'value'"
   ]
  },
  {
   "cell_type": "markdown",
   "metadata": {},
   "source": [
    "#### Addressing quality issue #11\n",
    "\n",
    "##### Definition\n",
    "Extract string indicating 'Utility' used to post the tweet. This value is embedded within the url in source column. \n",
    "Example: for source '<a href=\"http://twitter.com/download/iphone\" rel=\"nofollow\">Twitter for iPhone</a>' we have to extract 'Twitter for iPhone'\n",
    "\n",
    "##### Code"
   ]
  },
  {
   "cell_type": "code",
   "execution_count": 273,
   "metadata": {
    "collapsed": true
   },
   "outputs": [],
   "source": [
    "regex = r'>(.+)<' \n",
    "\n",
    "for i, row in twitter_arc_master_clean.iterrows():\n",
    "    src = row.source\n",
    "    #print src\n",
    "    result = re.search(regex, src)\n",
    "    twitter_arc_master_clean.loc[i,'utility'] = result.group(1)\n",
    "    "
   ]
  },
  {
   "cell_type": "markdown",
   "metadata": {},
   "source": [
    "##### Test"
   ]
  },
  {
   "cell_type": "code",
   "execution_count": 274,
   "metadata": {},
   "outputs": [
    {
     "name": "stdout",
     "output_type": "stream",
     "text": [
      "<class 'pandas.core.frame.DataFrame'>\n",
      "Int64Index: 1997 entries, 0 to 1996\n",
      "Data columns (total 30 columns):\n",
      "tweet_id                      1997 non-null int64\n",
      "in_reply_to_status_id         23 non-null float64\n",
      "in_reply_to_user_id           23 non-null float64\n",
      "timestamp                     1997 non-null object\n",
      "source                        1997 non-null object\n",
      "text                          1997 non-null object\n",
      "retweeted_status_id           0 non-null float64\n",
      "retweeted_status_user_id      0 non-null float64\n",
      "retweeted_status_timestamp    0 non-null float64\n",
      "expanded_urls                 1997 non-null object\n",
      "rating_numerator              1984 non-null float64\n",
      "rating_denominator            1984 non-null float64\n",
      "name                          1384 non-null object\n",
      "retweet_count                 1997 non-null int64\n",
      "favorite_count                1997 non-null int64\n",
      "description                   1997 non-null object\n",
      "jpg_url                       1997 non-null object\n",
      "img_num                       1997 non-null int64\n",
      "p1                            1997 non-null object\n",
      "p1_conf                       1997 non-null float64\n",
      "p1_dog                        1997 non-null bool\n",
      "p2                            1997 non-null object\n",
      "p2_conf                       1997 non-null float64\n",
      "p2_dog                        1997 non-null bool\n",
      "p3                            1997 non-null object\n",
      "p3_conf                       1997 non-null float64\n",
      "p3_dog                        1997 non-null bool\n",
      "dog_stage                     306 non-null category\n",
      "count_media                   1997 non-null float64\n",
      "utility                       1997 non-null object\n",
      "dtypes: bool(3), category(1), float64(11), int64(4), object(11)\n",
      "memory usage: 509.2+ KB\n",
      "None \n",
      "\n",
      "['Twitter for iPhone' 'Twitter Web Client' 'TweetDeck']\n"
     ]
    }
   ],
   "source": [
    "print twitter_arc_master_clean.info(), '\\n'\n",
    "#from above result we can see that both source as well utility have 1997 non-null objects\n",
    "\n",
    "print twitter_arc_master_clean.utility.unique()"
   ]
  },
  {
   "cell_type": "markdown",
   "metadata": {},
   "source": [
    "#### Addressing quality issue #12:\n",
    "##### Definition\n",
    "Correct datatypes for following columns:\n",
    "- tweet_id is int instead of string\n",
    "- in_reply_to_status_id, in_reply_to_user_id must string\n",
    "- timestamp, retweeted_status_timestamp should be datetime\n",
    "- retweeted_status_id, retweeted_status_user_id must be string\n",
    "\n",
    "##### Code"
   ]
  },
  {
   "cell_type": "code",
   "execution_count": 276,
   "metadata": {
    "collapsed": true
   },
   "outputs": [],
   "source": [
    "# To string\n",
    "twitter_arc_master_clean.tweet_id = twitter_arc_master_clean.tweet_id.astype('str')\n",
    "twitter_arc_master_clean.in_reply_to_status_id = twitter_arc_master_clean.in_reply_to_status_id.astype('str')\n",
    "twitter_arc_master_clean.in_reply_to_user_id = twitter_arc_master_clean.in_reply_to_user_id.astype('str')\n",
    "twitter_arc_master_clean.retweeted_status_id = twitter_arc_master_clean.retweeted_status_id.astype('str')\n",
    "twitter_arc_master_clean.retweeted_status_user_id = twitter_arc_master_clean.retweeted_status_user_id.astype('str')\n",
    "\n",
    "# To datetime\n",
    "twitter_arc_master_clean.timestamp = pd.to_datetime(twitter_arc_master_clean.timestamp)\n",
    "twitter_arc_master_clean.retweeted_status_timestamp = pd.to_datetime(twitter_arc_master_clean.retweeted_status_timestamp)\n",
    "\n",
    "# To int\n",
    "twitter_arc_master_clean.count_media = twitter_arc_master_clean.count_media.astype('int')"
   ]
  },
  {
   "cell_type": "markdown",
   "metadata": {},
   "source": [
    "##### Test"
   ]
  },
  {
   "cell_type": "code",
   "execution_count": 277,
   "metadata": {},
   "outputs": [
    {
     "name": "stdout",
     "output_type": "stream",
     "text": [
      "<class 'pandas.core.frame.DataFrame'>\n",
      "Int64Index: 1997 entries, 0 to 1996\n",
      "Data columns (total 30 columns):\n",
      "tweet_id                      1997 non-null object\n",
      "in_reply_to_status_id         1997 non-null object\n",
      "in_reply_to_user_id           1997 non-null object\n",
      "timestamp                     1997 non-null datetime64[ns]\n",
      "source                        1997 non-null object\n",
      "text                          1997 non-null object\n",
      "retweeted_status_id           1997 non-null object\n",
      "retweeted_status_user_id      1997 non-null object\n",
      "retweeted_status_timestamp    0 non-null datetime64[ns]\n",
      "expanded_urls                 1997 non-null object\n",
      "rating_numerator              1984 non-null float64\n",
      "rating_denominator            1984 non-null float64\n",
      "name                          1384 non-null object\n",
      "retweet_count                 1997 non-null int64\n",
      "favorite_count                1997 non-null int64\n",
      "description                   1997 non-null object\n",
      "jpg_url                       1997 non-null object\n",
      "img_num                       1997 non-null int64\n",
      "p1                            1997 non-null object\n",
      "p1_conf                       1997 non-null float64\n",
      "p1_dog                        1997 non-null bool\n",
      "p2                            1997 non-null object\n",
      "p2_conf                       1997 non-null float64\n",
      "p2_dog                        1997 non-null bool\n",
      "p3                            1997 non-null object\n",
      "p3_conf                       1997 non-null float64\n",
      "p3_dog                        1997 non-null bool\n",
      "dog_stage                     306 non-null category\n",
      "count_media                   1997 non-null int64\n",
      "utility                       1997 non-null object\n",
      "dtypes: bool(3), category(1), datetime64[ns](2), float64(5), int64(4), object(15)\n",
      "memory usage: 509.2+ KB\n"
     ]
    }
   ],
   "source": [
    "twitter_arc_master_clean.info()"
   ]
  },
  {
   "cell_type": "markdown",
   "metadata": {},
   "source": [
    "#### Final cleaning steps\n",
    "Dropping the inaccurate text column as the data is present in description column and then renaming 'description' to 'text'\n"
   ]
  },
  {
   "cell_type": "code",
   "execution_count": 278,
   "metadata": {},
   "outputs": [
    {
     "data": {
      "text/html": [
       "<div>\n",
       "<style>\n",
       "    .dataframe thead tr:only-child th {\n",
       "        text-align: right;\n",
       "    }\n",
       "\n",
       "    .dataframe thead th {\n",
       "        text-align: left;\n",
       "    }\n",
       "\n",
       "    .dataframe tbody tr th {\n",
       "        vertical-align: top;\n",
       "    }\n",
       "</style>\n",
       "<table border=\"1\" class=\"dataframe\">\n",
       "  <thead>\n",
       "    <tr style=\"text-align: right;\">\n",
       "      <th></th>\n",
       "      <th>tweet_id</th>\n",
       "      <th>in_reply_to_status_id</th>\n",
       "      <th>in_reply_to_user_id</th>\n",
       "      <th>timestamp</th>\n",
       "      <th>source</th>\n",
       "      <th>retweeted_status_id</th>\n",
       "      <th>retweeted_status_user_id</th>\n",
       "      <th>retweeted_status_timestamp</th>\n",
       "      <th>expanded_urls</th>\n",
       "      <th>rating_numerator</th>\n",
       "      <th>...</th>\n",
       "      <th>p1_dog</th>\n",
       "      <th>p2</th>\n",
       "      <th>p2_conf</th>\n",
       "      <th>p2_dog</th>\n",
       "      <th>p3</th>\n",
       "      <th>p3_conf</th>\n",
       "      <th>p3_dog</th>\n",
       "      <th>dog_stage</th>\n",
       "      <th>count_media</th>\n",
       "      <th>utility</th>\n",
       "    </tr>\n",
       "  </thead>\n",
       "  <tbody>\n",
       "    <tr>\n",
       "      <th>1640</th>\n",
       "      <td>672614745925664768</td>\n",
       "      <td>nan</td>\n",
       "      <td>nan</td>\n",
       "      <td>2015-12-04 03:13:46</td>\n",
       "      <td>&lt;a href=\"http://twitter.com/download/iphone\" r...</td>\n",
       "      <td>nan</td>\n",
       "      <td>nan</td>\n",
       "      <td>NaT</td>\n",
       "      <td>https://twitter.com/dog_rates/status/672614745...</td>\n",
       "      <td>6.0</td>\n",
       "      <td>...</td>\n",
       "      <td>False</td>\n",
       "      <td>goldfish</td>\n",
       "      <td>0.258865</td>\n",
       "      <td>False</td>\n",
       "      <td>sea_cucumber</td>\n",
       "      <td>0.002015</td>\n",
       "      <td>False</td>\n",
       "      <td>pupper</td>\n",
       "      <td>1</td>\n",
       "      <td>Twitter for iPhone</td>\n",
       "    </tr>\n",
       "    <tr>\n",
       "      <th>330</th>\n",
       "      <td>819924195358416896</td>\n",
       "      <td>nan</td>\n",
       "      <td>nan</td>\n",
       "      <td>2017-01-13 15:08:56</td>\n",
       "      <td>&lt;a href=\"http://twitter.com/download/iphone\" r...</td>\n",
       "      <td>nan</td>\n",
       "      <td>nan</td>\n",
       "      <td>NaT</td>\n",
       "      <td>https://twitter.com/dog_rates/status/819924195...</td>\n",
       "      <td>11.0</td>\n",
       "      <td>...</td>\n",
       "      <td>False</td>\n",
       "      <td>shower_curtain</td>\n",
       "      <td>0.091866</td>\n",
       "      <td>False</td>\n",
       "      <td>tub</td>\n",
       "      <td>0.049176</td>\n",
       "      <td>False</td>\n",
       "      <td>doggo</td>\n",
       "      <td>1</td>\n",
       "      <td>Twitter for iPhone</td>\n",
       "    </tr>\n",
       "    <tr>\n",
       "      <th>336</th>\n",
       "      <td>819004803107983360</td>\n",
       "      <td>nan</td>\n",
       "      <td>nan</td>\n",
       "      <td>2017-01-11 02:15:36</td>\n",
       "      <td>&lt;a href=\"http://twitter.com/download/iphone\" r...</td>\n",
       "      <td>nan</td>\n",
       "      <td>nan</td>\n",
       "      <td>NaT</td>\n",
       "      <td>https://twitter.com/dog_rates/status/819004803...</td>\n",
       "      <td>14.0</td>\n",
       "      <td>...</td>\n",
       "      <td>True</td>\n",
       "      <td>toy_poodle</td>\n",
       "      <td>0.271929</td>\n",
       "      <td>True</td>\n",
       "      <td>Tibetan_terrier</td>\n",
       "      <td>0.094759</td>\n",
       "      <td>True</td>\n",
       "      <td>doggo</td>\n",
       "      <td>4</td>\n",
       "      <td>Twitter for iPhone</td>\n",
       "    </tr>\n",
       "  </tbody>\n",
       "</table>\n",
       "<p>3 rows × 29 columns</p>\n",
       "</div>"
      ],
      "text/plain": [
       "                tweet_id in_reply_to_status_id in_reply_to_user_id  \\\n",
       "1640  672614745925664768                   nan                 nan   \n",
       "330   819924195358416896                   nan                 nan   \n",
       "336   819004803107983360                   nan                 nan   \n",
       "\n",
       "               timestamp                                             source  \\\n",
       "1640 2015-12-04 03:13:46  <a href=\"http://twitter.com/download/iphone\" r...   \n",
       "330  2017-01-13 15:08:56  <a href=\"http://twitter.com/download/iphone\" r...   \n",
       "336  2017-01-11 02:15:36  <a href=\"http://twitter.com/download/iphone\" r...   \n",
       "\n",
       "     retweeted_status_id retweeted_status_user_id retweeted_status_timestamp  \\\n",
       "1640                 nan                      nan                        NaT   \n",
       "330                  nan                      nan                        NaT   \n",
       "336                  nan                      nan                        NaT   \n",
       "\n",
       "                                          expanded_urls  rating_numerator  \\\n",
       "1640  https://twitter.com/dog_rates/status/672614745...               6.0   \n",
       "330   https://twitter.com/dog_rates/status/819924195...              11.0   \n",
       "336   https://twitter.com/dog_rates/status/819004803...              14.0   \n",
       "\n",
       "             ...          p1_dog              p2   p2_conf  p2_dog  \\\n",
       "1640         ...           False        goldfish  0.258865   False   \n",
       "330          ...           False  shower_curtain  0.091866   False   \n",
       "336          ...            True      toy_poodle  0.271929    True   \n",
       "\n",
       "                   p3   p3_conf  p3_dog dog_stage  count_media  \\\n",
       "1640     sea_cucumber  0.002015   False    pupper            1   \n",
       "330               tub  0.049176   False     doggo            1   \n",
       "336   Tibetan_terrier  0.094759    True     doggo            4   \n",
       "\n",
       "                 utility  \n",
       "1640  Twitter for iPhone  \n",
       "330   Twitter for iPhone  \n",
       "336   Twitter for iPhone  \n",
       "\n",
       "[3 rows x 29 columns]"
      ]
     },
     "execution_count": 278,
     "metadata": {},
     "output_type": "execute_result"
    }
   ],
   "source": [
    "twitter_arc_master_clean = twitter_arc_master_clean.drop('text', axis = 1) \n",
    "#test\n",
    "twitter_arc_master_clean.sample(3)"
   ]
  },
  {
   "cell_type": "markdown",
   "metadata": {},
   "source": [
    "Renaming 'description' to 'text' column for familiarity\n"
   ]
  },
  {
   "cell_type": "code",
   "execution_count": 279,
   "metadata": {},
   "outputs": [
    {
     "data": {
      "text/plain": [
       "['tweet_id',\n",
       " 'in_reply_to_status_id',\n",
       " 'in_reply_to_user_id',\n",
       " 'timestamp',\n",
       " 'source',\n",
       " 'retweeted_status_id',\n",
       " 'retweeted_status_user_id',\n",
       " 'retweeted_status_timestamp',\n",
       " 'expanded_urls',\n",
       " 'rating_numerator',\n",
       " 'rating_denominator',\n",
       " 'name',\n",
       " 'retweet_count',\n",
       " 'favorite_count',\n",
       " 'text',\n",
       " 'jpg_url',\n",
       " 'img_num',\n",
       " 'p1',\n",
       " 'p1_conf',\n",
       " 'p1_dog',\n",
       " 'p2',\n",
       " 'p2_conf',\n",
       " 'p2_dog',\n",
       " 'p3',\n",
       " 'p3_conf',\n",
       " 'p3_dog',\n",
       " 'dog_stage',\n",
       " 'count_media',\n",
       " 'utility']"
      ]
     },
     "execution_count": 279,
     "metadata": {},
     "output_type": "execute_result"
    }
   ],
   "source": [
    "#code\n",
    "twitter_arc_master_clean.rename(columns={'description': 'text'}, inplace=True) \n",
    "#test\n",
    "list(twitter_arc_master_clean)"
   ]
  },
  {
   "cell_type": "markdown",
   "metadata": {},
   "source": [
    "Next, lets write the clean dataframe to a csv file. Remember to add index = False to avoid creating an 'Unnamed' column"
   ]
  },
  {
   "cell_type": "code",
   "execution_count": 280,
   "metadata": {
    "collapsed": true
   },
   "outputs": [],
   "source": [
    "twitter_arc_master_clean.to_csv('twitter_archive_master.csv', sep=',', encoding='utf-8', index = False)\n"
   ]
  },
  {
   "cell_type": "markdown",
   "metadata": {
    "collapsed": true
   },
   "source": [
    "## Part 2 Analyze Data\n",
    "\n",
    "Lets analyze the cleaned dataframe 'twitter_arc_master_clean'"
   ]
  },
  {
   "cell_type": "code",
   "execution_count": 286,
   "metadata": {
    "collapsed": true
   },
   "outputs": [],
   "source": [
    "full_twitter_df = twitter_arc_master_clean.copy()"
   ]
  },
  {
   "cell_type": "markdown",
   "metadata": {
    "collapsed": true
   },
   "source": [
    "Subsetting the dataframe to include only columns needed for further analysis"
   ]
  },
  {
   "cell_type": "code",
   "execution_count": 290,
   "metadata": {
    "collapsed": true
   },
   "outputs": [],
   "source": [
    "twitter_df = full_twitter_df.loc[:, [\n",
    " 'tweet_id','expanded_urls','rating_numerator','rating_denominator','name','retweet_count','favorite_count',\n",
    " 'text','dog_stage','count_media','utility']]"
   ]
  },
  {
   "cell_type": "code",
   "execution_count": 291,
   "metadata": {},
   "outputs": [
    {
     "data": {
      "text/html": [
       "<div>\n",
       "<style>\n",
       "    .dataframe thead tr:only-child th {\n",
       "        text-align: right;\n",
       "    }\n",
       "\n",
       "    .dataframe thead th {\n",
       "        text-align: left;\n",
       "    }\n",
       "\n",
       "    .dataframe tbody tr th {\n",
       "        vertical-align: top;\n",
       "    }\n",
       "</style>\n",
       "<table border=\"1\" class=\"dataframe\">\n",
       "  <thead>\n",
       "    <tr style=\"text-align: right;\">\n",
       "      <th></th>\n",
       "      <th>tweet_id</th>\n",
       "      <th>expanded_urls</th>\n",
       "      <th>rating_numerator</th>\n",
       "      <th>rating_denominator</th>\n",
       "      <th>name</th>\n",
       "      <th>retweet_count</th>\n",
       "      <th>favorite_count</th>\n",
       "      <th>text</th>\n",
       "      <th>dog_stage</th>\n",
       "      <th>count_media</th>\n",
       "      <th>utility</th>\n",
       "    </tr>\n",
       "  </thead>\n",
       "  <tbody>\n",
       "    <tr>\n",
       "      <th>0</th>\n",
       "      <td>892420643555336193</td>\n",
       "      <td>https://twitter.com/dog_rates/status/892420643...</td>\n",
       "      <td>13.0</td>\n",
       "      <td>10.0</td>\n",
       "      <td>Phineas</td>\n",
       "      <td>8795</td>\n",
       "      <td>39369</td>\n",
       "      <td>This is Phineas. He's a mystical boy. Only eve...</td>\n",
       "      <td>NaN</td>\n",
       "      <td>1</td>\n",
       "      <td>Twitter for iPhone</td>\n",
       "    </tr>\n",
       "    <tr>\n",
       "      <th>1</th>\n",
       "      <td>892420643555336193</td>\n",
       "      <td>https://twitter.com/dog_rates/status/892420643...</td>\n",
       "      <td>13.0</td>\n",
       "      <td>10.0</td>\n",
       "      <td>Phineas</td>\n",
       "      <td>8795</td>\n",
       "      <td>39369</td>\n",
       "      <td>This is Phineas. He's a mystical boy. Only eve...</td>\n",
       "      <td>NaN</td>\n",
       "      <td>1</td>\n",
       "      <td>Twitter for iPhone</td>\n",
       "    </tr>\n",
       "    <tr>\n",
       "      <th>2</th>\n",
       "      <td>892177421306343426</td>\n",
       "      <td>https://twitter.com/dog_rates/status/892177421...</td>\n",
       "      <td>13.0</td>\n",
       "      <td>10.0</td>\n",
       "      <td>Tilly</td>\n",
       "      <td>6448</td>\n",
       "      <td>33698</td>\n",
       "      <td>This is Tilly. She's just checking pup on you....</td>\n",
       "      <td>NaN</td>\n",
       "      <td>1</td>\n",
       "      <td>Twitter for iPhone</td>\n",
       "    </tr>\n",
       "    <tr>\n",
       "      <th>3</th>\n",
       "      <td>892177421306343426</td>\n",
       "      <td>https://twitter.com/dog_rates/status/892177421...</td>\n",
       "      <td>13.0</td>\n",
       "      <td>10.0</td>\n",
       "      <td>Tilly</td>\n",
       "      <td>6448</td>\n",
       "      <td>33698</td>\n",
       "      <td>This is Tilly. She's just checking pup on you....</td>\n",
       "      <td>NaN</td>\n",
       "      <td>1</td>\n",
       "      <td>Twitter for iPhone</td>\n",
       "    </tr>\n",
       "    <tr>\n",
       "      <th>4</th>\n",
       "      <td>891815181378084864</td>\n",
       "      <td>https://twitter.com/dog_rates/status/891815181...</td>\n",
       "      <td>12.0</td>\n",
       "      <td>10.0</td>\n",
       "      <td>Archie</td>\n",
       "      <td>4274</td>\n",
       "      <td>25393</td>\n",
       "      <td>This is Archie. He is a rare Norwegian Pouncin...</td>\n",
       "      <td>NaN</td>\n",
       "      <td>1</td>\n",
       "      <td>Twitter for iPhone</td>\n",
       "    </tr>\n",
       "  </tbody>\n",
       "</table>\n",
       "</div>"
      ],
      "text/plain": [
       "             tweet_id                                      expanded_urls  \\\n",
       "0  892420643555336193  https://twitter.com/dog_rates/status/892420643...   \n",
       "1  892420643555336193  https://twitter.com/dog_rates/status/892420643...   \n",
       "2  892177421306343426  https://twitter.com/dog_rates/status/892177421...   \n",
       "3  892177421306343426  https://twitter.com/dog_rates/status/892177421...   \n",
       "4  891815181378084864  https://twitter.com/dog_rates/status/891815181...   \n",
       "\n",
       "   rating_numerator  rating_denominator     name  retweet_count  \\\n",
       "0              13.0                10.0  Phineas           8795   \n",
       "1              13.0                10.0  Phineas           8795   \n",
       "2              13.0                10.0    Tilly           6448   \n",
       "3              13.0                10.0    Tilly           6448   \n",
       "4              12.0                10.0   Archie           4274   \n",
       "\n",
       "   favorite_count                                               text  \\\n",
       "0           39369  This is Phineas. He's a mystical boy. Only eve...   \n",
       "1           39369  This is Phineas. He's a mystical boy. Only eve...   \n",
       "2           33698  This is Tilly. She's just checking pup on you....   \n",
       "3           33698  This is Tilly. She's just checking pup on you....   \n",
       "4           25393  This is Archie. He is a rare Norwegian Pouncin...   \n",
       "\n",
       "  dog_stage  count_media             utility  \n",
       "0       NaN            1  Twitter for iPhone  \n",
       "1       NaN            1  Twitter for iPhone  \n",
       "2       NaN            1  Twitter for iPhone  \n",
       "3       NaN            1  Twitter for iPhone  \n",
       "4       NaN            1  Twitter for iPhone  "
      ]
     },
     "execution_count": 291,
     "metadata": {},
     "output_type": "execute_result"
    }
   ],
   "source": [
    "twitter_df.head()"
   ]
  },
  {
   "cell_type": "code",
   "execution_count": 292,
   "metadata": {},
   "outputs": [
    {
     "name": "stdout",
     "output_type": "stream",
     "text": [
      "<class 'pandas.core.frame.DataFrame'>\n",
      "Int64Index: 1997 entries, 0 to 1996\n",
      "Data columns (total 11 columns):\n",
      "tweet_id              1997 non-null object\n",
      "expanded_urls         1997 non-null object\n",
      "rating_numerator      1984 non-null float64\n",
      "rating_denominator    1984 non-null float64\n",
      "name                  1384 non-null object\n",
      "retweet_count         1997 non-null int64\n",
      "favorite_count        1997 non-null int64\n",
      "text                  1997 non-null object\n",
      "dog_stage             306 non-null category\n",
      "count_media           1997 non-null int64\n",
      "utility               1997 non-null object\n",
      "dtypes: category(1), float64(2), int64(3), object(5)\n",
      "memory usage: 173.8+ KB\n"
     ]
    }
   ],
   "source": [
    "twitter_df.info()"
   ]
  },
  {
   "cell_type": "code",
   "execution_count": 293,
   "metadata": {},
   "outputs": [
    {
     "data": {
      "text/html": [
       "<div>\n",
       "<style>\n",
       "    .dataframe thead tr:only-child th {\n",
       "        text-align: right;\n",
       "    }\n",
       "\n",
       "    .dataframe thead th {\n",
       "        text-align: left;\n",
       "    }\n",
       "\n",
       "    .dataframe tbody tr th {\n",
       "        vertical-align: top;\n",
       "    }\n",
       "</style>\n",
       "<table border=\"1\" class=\"dataframe\">\n",
       "  <thead>\n",
       "    <tr style=\"text-align: right;\">\n",
       "      <th></th>\n",
       "      <th>rating_numerator</th>\n",
       "      <th>rating_denominator</th>\n",
       "      <th>retweet_count</th>\n",
       "      <th>favorite_count</th>\n",
       "      <th>count_media</th>\n",
       "    </tr>\n",
       "  </thead>\n",
       "  <tbody>\n",
       "    <tr>\n",
       "      <th>count</th>\n",
       "      <td>1984.000000</td>\n",
       "      <td>1984.0</td>\n",
       "      <td>1997.000000</td>\n",
       "      <td>1997.000000</td>\n",
       "      <td>1997.000000</td>\n",
       "    </tr>\n",
       "    <tr>\n",
       "      <th>mean</th>\n",
       "      <td>11.699093</td>\n",
       "      <td>10.0</td>\n",
       "      <td>2768.390586</td>\n",
       "      <td>8948.518277</td>\n",
       "      <td>1.429644</td>\n",
       "    </tr>\n",
       "    <tr>\n",
       "      <th>std</th>\n",
       "      <td>40.768892</td>\n",
       "      <td>0.0</td>\n",
       "      <td>4731.550444</td>\n",
       "      <td>12469.489524</td>\n",
       "      <td>0.852135</td>\n",
       "    </tr>\n",
       "    <tr>\n",
       "      <th>min</th>\n",
       "      <td>0.000000</td>\n",
       "      <td>10.0</td>\n",
       "      <td>14.000000</td>\n",
       "      <td>81.000000</td>\n",
       "      <td>1.000000</td>\n",
       "    </tr>\n",
       "    <tr>\n",
       "      <th>25%</th>\n",
       "      <td>10.000000</td>\n",
       "      <td>10.0</td>\n",
       "      <td>624.000000</td>\n",
       "      <td>1975.000000</td>\n",
       "      <td>1.000000</td>\n",
       "    </tr>\n",
       "    <tr>\n",
       "      <th>50%</th>\n",
       "      <td>11.000000</td>\n",
       "      <td>10.0</td>\n",
       "      <td>1352.000000</td>\n",
       "      <td>4114.000000</td>\n",
       "      <td>1.000000</td>\n",
       "    </tr>\n",
       "    <tr>\n",
       "      <th>75%</th>\n",
       "      <td>12.000000</td>\n",
       "      <td>10.0</td>\n",
       "      <td>3197.000000</td>\n",
       "      <td>11324.000000</td>\n",
       "      <td>2.000000</td>\n",
       "    </tr>\n",
       "    <tr>\n",
       "      <th>max</th>\n",
       "      <td>1776.000000</td>\n",
       "      <td>10.0</td>\n",
       "      <td>78844.000000</td>\n",
       "      <td>131942.000000</td>\n",
       "      <td>5.000000</td>\n",
       "    </tr>\n",
       "  </tbody>\n",
       "</table>\n",
       "</div>"
      ],
      "text/plain": [
       "       rating_numerator  rating_denominator  retweet_count  favorite_count  \\\n",
       "count       1984.000000              1984.0    1997.000000     1997.000000   \n",
       "mean          11.699093                10.0    2768.390586     8948.518277   \n",
       "std           40.768892                 0.0    4731.550444    12469.489524   \n",
       "min            0.000000                10.0      14.000000       81.000000   \n",
       "25%           10.000000                10.0     624.000000     1975.000000   \n",
       "50%           11.000000                10.0    1352.000000     4114.000000   \n",
       "75%           12.000000                10.0    3197.000000    11324.000000   \n",
       "max         1776.000000                10.0   78844.000000   131942.000000   \n",
       "\n",
       "       count_media  \n",
       "count  1997.000000  \n",
       "mean      1.429644  \n",
       "std       0.852135  \n",
       "min       1.000000  \n",
       "25%       1.000000  \n",
       "50%       1.000000  \n",
       "75%       2.000000  \n",
       "max       5.000000  "
      ]
     },
     "execution_count": 293,
     "metadata": {},
     "output_type": "execute_result"
    }
   ],
   "source": [
    "twitter_df.describe()"
   ]
  },
  {
   "cell_type": "markdown",
   "metadata": {},
   "source": [
    "The max value for rating_numerator is 1776!!!. (After checking we can see that it is correct!)"
   ]
  },
  {
   "cell_type": "code",
   "execution_count": 294,
   "metadata": {},
   "outputs": [
    {
     "data": {
      "text/html": [
       "<div>\n",
       "<style>\n",
       "    .dataframe thead tr:only-child th {\n",
       "        text-align: right;\n",
       "    }\n",
       "\n",
       "    .dataframe thead th {\n",
       "        text-align: left;\n",
       "    }\n",
       "\n",
       "    .dataframe tbody tr th {\n",
       "        vertical-align: top;\n",
       "    }\n",
       "</style>\n",
       "<table border=\"1\" class=\"dataframe\">\n",
       "  <thead>\n",
       "    <tr style=\"text-align: right;\">\n",
       "      <th></th>\n",
       "      <th>tweet_id</th>\n",
       "      <th>expanded_urls</th>\n",
       "      <th>rating_numerator</th>\n",
       "      <th>rating_denominator</th>\n",
       "      <th>name</th>\n",
       "      <th>retweet_count</th>\n",
       "      <th>favorite_count</th>\n",
       "      <th>text</th>\n",
       "      <th>dog_stage</th>\n",
       "      <th>count_media</th>\n",
       "      <th>utility</th>\n",
       "    </tr>\n",
       "  </thead>\n",
       "  <tbody>\n",
       "    <tr>\n",
       "      <th>729</th>\n",
       "      <td>749981277374128128</td>\n",
       "      <td>https://twitter.com/dog_rates/status/749981277...</td>\n",
       "      <td>1776.0</td>\n",
       "      <td>10.0</td>\n",
       "      <td>Atticus</td>\n",
       "      <td>2761</td>\n",
       "      <td>5583</td>\n",
       "      <td>This is Atticus. He's quite simply America af....</td>\n",
       "      <td>NaN</td>\n",
       "      <td>1</td>\n",
       "      <td>TweetDeck</td>\n",
       "    </tr>\n",
       "  </tbody>\n",
       "</table>\n",
       "</div>"
      ],
      "text/plain": [
       "               tweet_id                                      expanded_urls  \\\n",
       "729  749981277374128128  https://twitter.com/dog_rates/status/749981277...   \n",
       "\n",
       "     rating_numerator  rating_denominator     name  retweet_count  \\\n",
       "729            1776.0                10.0  Atticus           2761   \n",
       "\n",
       "     favorite_count                                               text  \\\n",
       "729            5583  This is Atticus. He's quite simply America af....   \n",
       "\n",
       "    dog_stage  count_media    utility  \n",
       "729       NaN            1  TweetDeck  "
      ]
     },
     "execution_count": 294,
     "metadata": {},
     "output_type": "execute_result"
    }
   ],
   "source": [
    "twitter_df.loc[(twitter_df.rating_numerator == 1776),]"
   ]
  },
  {
   "cell_type": "markdown",
   "metadata": {},
   "source": [
    "## Part 3 Visualize Data\n",
    "\n",
    "#### Distribution of ratings\n",
    "First lets split the rating_numerator column into bins and plot the ratings using bar plot"
   ]
  },
  {
   "cell_type": "code",
   "execution_count": 295,
   "metadata": {},
   "outputs": [
    {
     "data": {
      "text/plain": [
       "<matplotlib.text.Text at 0x121006dd0>"
      ]
     },
     "execution_count": 295,
     "metadata": {},
     "output_type": "execute_result"
    },
    {
     "data": {
      "image/png": "[encoded data removed]",
      "text/plain": [
       "<matplotlib.figure.Figure at 0x120209710>"
      ]
     },
     "metadata": {},
     "output_type": "display_data"
    }
   ],
   "source": [
    "twitter_df['rating_bin'] = pd.cut(twitter_df['rating_numerator'],bins = [0,5,10,15,20,25,1800])\n",
    "\n",
    "#find the count of ratings in each bin \n",
    "grouped_df = twitter_df.groupby('rating_bin')['rating_bin'].count()\n",
    "\n",
    "grouped_df = grouped_df.plot(kind = 'bar')\n",
    "grouped_df.set_xlabel(\"Ratings\")\n",
    "grouped_df.set_ylabel(\"Count\")\n",
    "grouped_df.set_title('Plot 1: Count of ratings in each bin (Each rating is out of 10)')\n"
   ]
  },
  {
   "cell_type": "markdown",
   "metadata": {},
   "source": [
    "As can be seen from the plot #1 above, \n",
    "- around 1150 of the users (approx. 57%) rated dogs in range (10,15] i.e. above 10 but less or equal to 15. \n",
    "- around 750 users (approx. 37%) rated dogs in the range (5,10]\n",
    "- around 80 users rated dogs in the range (0,5].\n",
    "- there is one outlier with rating 1776/10."
   ]
  },
  {
   "cell_type": "markdown",
   "metadata": {},
   "source": [
    "#### Analyzing Dog stages"
   ]
  },
  {
   "cell_type": "code",
   "execution_count": 297,
   "metadata": {},
   "outputs": [
    {
     "name": "stdout",
     "output_type": "stream",
     "text": [
      "pupper     212\n",
      "doggo       63\n",
      "puppo       23\n",
      "floofer      8\n",
      "Name: dog_stage, dtype: int64\n"
     ]
    },
    {
     "data": {
      "text/plain": [
       "<matplotlib.text.Text at 0x11730b110>"
      ]
     },
     "execution_count": 297,
     "metadata": {},
     "output_type": "execute_result"
    },
    {
     "data": {
      "image/png": "[encoded data removed]",
      "text/plain": [
       "<matplotlib.figure.Figure at 0x11b41f7d0>"
      ]
     },
     "metadata": {},
     "output_type": "display_data"
    }
   ],
   "source": [
    "count_stages = twitter_df.dog_stage.value_counts()\n",
    "print count_stages\n",
    "stage = count_stages.plot(kind = 'bar')\n",
    "\n",
    "stage.set_xlabel(\"Dog Stage\")\n",
    "stage.set_ylabel(\"Count\")\n",
    "stage.set_title('Plot 2: Count of dogs based on dog stage')"
   ]
  },
  {
   "cell_type": "markdown",
   "metadata": {},
   "source": [
    "Out of the total 306 tweets that indicate dog_stage:\n",
    "- around 210 (approx. 68%) have 'pupper' stage \n",
    "- around 60 (approx. 20%) have 'doggo' stage\n",
    "- around 20 (approx. 6%) have 'puppo' stage\n",
    "- around 10 (approx. 3%) have 'floofer' stage\n"
   ]
  },
  {
   "cell_type": "markdown",
   "metadata": {},
   "source": [
    "Analyzing how the favorite_count changes based on dog_stage"
   ]
  },
  {
   "cell_type": "code",
   "execution_count": 298,
   "metadata": {},
   "outputs": [
    {
     "data": {
      "text/plain": [
       "<matplotlib.text.Text at 0x121821950>"
      ]
     },
     "execution_count": 298,
     "metadata": {},
     "output_type": "execute_result"
    },
    {
     "data": {
      "image/png": "[encoded data removed]",
      "text/plain": [
       "<matplotlib.figure.Figure at 0x1217b9590>"
      ]
     },
     "metadata": {},
     "output_type": "display_data"
    }
   ],
   "source": [
    "grouped_df = twitter_df.groupby(['dog_stage'])['favorite_count'].mean()\n",
    "\n",
    "fav = grouped_df.plot(kind=\"bar\")\n",
    "fav.set_xlabel(\"Dog Stage\")\n",
    "fav.set_ylabel(\"Mean favorite_count\")\n",
    "fav.set_title('Plot 3: Mean favorite_count based on dog stage')"
   ]
  },
  {
   "cell_type": "markdown",
   "metadata": {},
   "source": [
    "Based on plot 3, we see that dogs in 'puppo' stage have highest number of mean favorite_count, followed by 'doggo', then 'floofer' and 'pupper'.\n"
   ]
  },
  {
   "cell_type": "code",
   "execution_count": null,
   "metadata": {
    "collapsed": true
   },
   "outputs": [],
   "source": []
  }
 ],
 "metadata": {
  "kernelspec": {
   "display_name": "Python 2",
   "language": "python",
   "name": "python2"
  },
  "language_info": {
   "codemirror_mode": {
    "name": "ipython",
    "version": 2
   },
   "file_extension": ".py",
   "mimetype": "text/x-python",
   "name": "python",
   "nbconvert_exporter": "python",
   "pygments_lexer": "ipython2",
   "version": "2.7.13"
  }
 },
 "nbformat": 4,
 "nbformat_minor": 2
}
