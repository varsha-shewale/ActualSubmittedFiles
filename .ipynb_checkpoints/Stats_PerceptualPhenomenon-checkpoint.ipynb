{
 "cells": [
  {
   "cell_type": "markdown",
   "metadata": {},
   "source": [
    "### Analyzing the Stroop Effect\n",
    "In this project, I have investigated a classic phenomenon from experimental psychology called the Stroop Effect. \n",
    "I created a hypothesis regarding the outcome of the task. I analyzed the data collected from others who have performed the same task and computed some statistics describing the results and accordingly interpreted the results in terms of hypotheses.\n",
    "\n",
    "\n",
    "(1) Independent and dependent variable"
   ]
  },
  {
   "cell_type": "markdown",
   "metadata": {},
   "source": [
    "Independent variable is the task undertaken (congruent and incongruent) in the Stroop test, while the dependent variable is the time needed to complete the congruent and incongruent tasks of the Stroop test."
   ]
  },
  {
   "cell_type": "markdown",
   "metadata": {},
   "source": [
    "(2) Hypotheses and Statistical Test"
   ]
  },
  {
   "cell_type": "markdown",
   "metadata": {},
   "source": [
    "Ho (Null Hypothesis): The population means of the two tasks (congruent and incongruent) are equal.\n",
    "Ho: μ congruent = μ incongruent \n",
    "\n",
    "Ha (Alternate Hypothesis): The population means of the two tasks (congruent and incongruent) are NOT equal.\n",
    "Ha: μ congruent ≠ μ incongruent\n",
    "\n",
    "Although I anticipate the incongruent task’s mean to be greater than the congruent task’s mean, I find it safer to use a two-tailed Dependent Samples t-test (also known as paired t-test) here. As the sample size is less than 30, a t-test is recommended in this case.\n",
    "Also as the same individual is measured for the Congruent as well as the Incongruent task, a Dependent Samples t-test is appropriate for this hypothesis."
   ]
  },
  {
   "cell_type": "markdown",
   "metadata": {},
   "source": [
    "(3) Descriptive statistics, central tendency, measure of variability"
   ]
  },
  {
   "cell_type": "code",
   "execution_count": 4,
   "metadata": {},
   "outputs": [
    {
     "data": {
      "text/html": [
       "<div>\n",
       "<style>\n",
       "    .dataframe thead tr:only-child th {\n",
       "        text-align: right;\n",
       "    }\n",
       "\n",
       "    .dataframe thead th {\n",
       "        text-align: left;\n",
       "    }\n",
       "\n",
       "    .dataframe tbody tr th {\n",
       "        vertical-align: top;\n",
       "    }\n",
       "</style>\n",
       "<table border=\"1\" class=\"dataframe\">\n",
       "  <thead>\n",
       "    <tr style=\"text-align: right;\">\n",
       "      <th></th>\n",
       "      <th>Congruent</th>\n",
       "      <th>Incongruent</th>\n",
       "    </tr>\n",
       "  </thead>\n",
       "  <tbody>\n",
       "    <tr>\n",
       "      <th>count</th>\n",
       "      <td>24.000000</td>\n",
       "      <td>24.000000</td>\n",
       "    </tr>\n",
       "    <tr>\n",
       "      <th>mean</th>\n",
       "      <td>14.051125</td>\n",
       "      <td>22.015917</td>\n",
       "    </tr>\n",
       "    <tr>\n",
       "      <th>std</th>\n",
       "      <td>3.559358</td>\n",
       "      <td>4.797057</td>\n",
       "    </tr>\n",
       "    <tr>\n",
       "      <th>min</th>\n",
       "      <td>8.630000</td>\n",
       "      <td>15.687000</td>\n",
       "    </tr>\n",
       "    <tr>\n",
       "      <th>25%</th>\n",
       "      <td>11.895250</td>\n",
       "      <td>18.716750</td>\n",
       "    </tr>\n",
       "    <tr>\n",
       "      <th>50%</th>\n",
       "      <td>14.356500</td>\n",
       "      <td>21.017500</td>\n",
       "    </tr>\n",
       "    <tr>\n",
       "      <th>75%</th>\n",
       "      <td>16.200750</td>\n",
       "      <td>24.051500</td>\n",
       "    </tr>\n",
       "    <tr>\n",
       "      <th>max</th>\n",
       "      <td>22.328000</td>\n",
       "      <td>35.255000</td>\n",
       "    </tr>\n",
       "  </tbody>\n",
       "</table>\n",
       "</div>"
      ],
      "text/plain": [
       "       Congruent  Incongruent\n",
       "count  24.000000    24.000000\n",
       "mean   14.051125    22.015917\n",
       "std     3.559358     4.797057\n",
       "min     8.630000    15.687000\n",
       "25%    11.895250    18.716750\n",
       "50%    14.356500    21.017500\n",
       "75%    16.200750    24.051500\n",
       "max    22.328000    35.255000"
      ]
     },
     "execution_count": 4,
     "metadata": {},
     "output_type": "execute_result"
    }
   ],
   "source": [
    "# Perform the analysis\n",
    "import pandas as pd\n",
    "import seaborn as sns\n",
    "from scipy import stats\n",
    "\n",
    "df = pd.read_csv(\"stroopdata.csv\")\n",
    "\n",
    "#descriptive statistics\n",
    "df.describe()"
   ]
  },
  {
   "cell_type": "markdown",
   "metadata": {},
   "source": [
    "•\tThe mean time needed to complete the Congruent task is approx. 14 seconds versus 22 seconds for Incongruent task.\n",
    "•\tIQR for the Congruent task is 4.3 seconds approx. and IQR for Incongruent task is 5.3 approx.\n",
    "•\tThe standard deviation is 3.5 seconds for Congruent task versus 4.8 seconds for the Incongruent task."
   ]
  },
  {
   "cell_type": "markdown",
   "metadata": {},
   "source": [
    "(4) Visualizations showing the distribution of the sample data"
   ]
  },
  {
   "cell_type": "code",
   "execution_count": 7,
   "metadata": {},
   "outputs": [
    {
     "data": {
      "text/plain": [
       "<matplotlib.axes._subplots.AxesSubplot at 0x7fb7a0c70160>"
      ]
     },
     "execution_count": 7,
     "metadata": {},
     "output_type": "execute_result"
    },
    {
     "data": {
      "image/png": "[encoded data removed]",
      "text/plain": [
       "<matplotlib.figure.Figure at 0x7fb7a86d2dd8>"
      ]
     },
     "metadata": {},
     "output_type": "display_data"
    }
   ],
   "source": [
    "# Build the visualizations here\n",
    "%matplotlib inline\n",
    "\n",
    "sns.boxplot(data=df, orient=\"h\", palette=\"Set2\")\n"
   ]
  },
  {
   "cell_type": "markdown",
   "metadata": {},
   "source": [
    "From the above plot we can see that times needed for completing Incongruent task in general is higher than that needed for completing Congruent task.\n",
    "There are also two outliers seen while doing the congruent task indicating that two of the participants likely needed much higher time (around 35 seconds) to complete the Incongruent task versus the group mean of 22 seconds."
   ]
  },
  {
   "cell_type": "markdown",
   "metadata": {},
   "source": [
    "(5) Statistical test, confidence level, critical statistic value, results of hypotheses testing"
   ]
  },
  {
   "cell_type": "code",
   "execution_count": 8,
   "metadata": {},
   "outputs": [
    {
     "data": {
      "text/plain": [
       "Ttest_relResult(statistic=-8.020706944109957, pvalue=4.1030005857111781e-08)"
      ]
     },
     "execution_count": 8,
     "metadata": {},
     "output_type": "execute_result"
    }
   ],
   "source": [
    "# Perform the statistical test here\n",
    "#Ho (Null Hypothesis): The population means of the two tasks (congruent and incongruent) are equal.\n",
    "#Ho: μ congruent   = μ incongruent \n",
    "\n",
    "#Ha (Alternate Hypothesis): The population means of the two tasks (congruent and incongruent) are NOT equal.\n",
    "#Ha: μ congruent   ≠ μ incongruent\n",
    "\n",
    "stats.ttest_rel(df['Congruent'],df['Incongruent'])\n"
   ]
  },
  {
   "cell_type": "markdown",
   "metadata": {},
   "source": [
    "As the p-value < 0.05, the result is statistically significant. Thus we reject the Ho (Null Hypothesis) and accept that the difference in the means of the two tasks is different.\n",
    "\n",
    "As the t statistic is negative we can conclude the directionality, meaning the time needed has increased significantly for completing the Incongruent task versus completing the Congruent task.\n",
    "\n",
    "The increase in time needed to complete the Incongruent task can be attributed to the mismatch in the text ink color and the text color spelling. Our brain is preconditioned to read the text than reading the color of the ink. When they are the same the task becomes more easy but in cases of mismatch the brain has to do extra work to ignore the text and focus only on the ink color."
   ]
  }
 ],
 "metadata": {
  "kernelspec": {
   "display_name": "Python 2",
   "language": "python",
   "name": "python2"
  },
  "language_info": {
   "codemirror_mode": {
    "name": "ipython",
    "version": 2
   },
   "file_extension": ".py",
   "mimetype": "text/x-python",
   "name": "python",
   "nbconvert_exporter": "python",
   "pygments_lexer": "ipython2",
   "version": "2.7.13"
  }
 },
 "nbformat": 4,
 "nbformat_minor": 2
}
